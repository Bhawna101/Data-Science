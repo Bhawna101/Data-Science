{
 "cells": [
  {
   "cell_type": "code",
   "execution_count": 1,
   "id": "9354feb7-bcad-41b9-bd45-aad47ccd115a",
   "metadata": {},
   "outputs": [],
   "source": [
    "import requests\n",
    "import pandas as pd\n",
    "import numpy as np\n",
    "import datetime\n",
    "\n",
    "# Setting this option will print all collumns of a dataframe\n",
    "pd.set_option('display.max_columns', None)\n",
    "# Setting this option will print all of the data in a feature\n",
    "pd.set_option('display.max_colwidth', None)"
   ]
  },
  {
   "cell_type": "code",
   "execution_count": 3,
   "id": "7b1ec1bc-3881-437c-bf74-50f0e67d3fd2",
   "metadata": {},
   "outputs": [
    {
     "data": {
      "text/html": [
       "<div>\n",
       "<style scoped>\n",
       "    .dataframe tbody tr th:only-of-type {\n",
       "        vertical-align: middle;\n",
       "    }\n",
       "\n",
       "    .dataframe tbody tr th {\n",
       "        vertical-align: top;\n",
       "    }\n",
       "\n",
       "    .dataframe thead th {\n",
       "        text-align: right;\n",
       "    }\n",
       "</style>\n",
       "<table border=\"1\" class=\"dataframe\">\n",
       "  <thead>\n",
       "    <tr style=\"text-align: right;\">\n",
       "      <th></th>\n",
       "      <th>static_fire_date_utc</th>\n",
       "      <th>static_fire_date_unix</th>\n",
       "      <th>net</th>\n",
       "      <th>window</th>\n",
       "      <th>rocket</th>\n",
       "      <th>success</th>\n",
       "      <th>failures</th>\n",
       "      <th>details</th>\n",
       "      <th>crew</th>\n",
       "      <th>ships</th>\n",
       "      <th>capsules</th>\n",
       "      <th>payloads</th>\n",
       "      <th>launchpad</th>\n",
       "      <th>flight_number</th>\n",
       "      <th>name</th>\n",
       "      <th>date_utc</th>\n",
       "      <th>date_unix</th>\n",
       "      <th>date_local</th>\n",
       "      <th>date_precision</th>\n",
       "      <th>upcoming</th>\n",
       "      <th>cores</th>\n",
       "      <th>auto_update</th>\n",
       "      <th>tbd</th>\n",
       "      <th>launch_library_id</th>\n",
       "      <th>id</th>\n",
       "      <th>fairings.reused</th>\n",
       "      <th>fairings.recovery_attempt</th>\n",
       "      <th>fairings.recovered</th>\n",
       "      <th>fairings.ships</th>\n",
       "      <th>links.patch.small</th>\n",
       "      <th>links.patch.large</th>\n",
       "      <th>links.reddit.campaign</th>\n",
       "      <th>links.reddit.launch</th>\n",
       "      <th>links.reddit.media</th>\n",
       "      <th>links.reddit.recovery</th>\n",
       "      <th>links.flickr.small</th>\n",
       "      <th>links.flickr.original</th>\n",
       "      <th>links.presskit</th>\n",
       "      <th>links.webcast</th>\n",
       "      <th>links.youtube_id</th>\n",
       "      <th>links.article</th>\n",
       "      <th>links.wikipedia</th>\n",
       "      <th>fairings</th>\n",
       "    </tr>\n",
       "  </thead>\n",
       "  <tbody>\n",
       "    <tr>\n",
       "      <th>0</th>\n",
       "      <td>2006-03-17T00:00:00.000Z</td>\n",
       "      <td>1.142554e+09</td>\n",
       "      <td>False</td>\n",
       "      <td>0.0</td>\n",
       "      <td>5e9d0d95eda69955f709d1eb</td>\n",
       "      <td>False</td>\n",
       "      <td>[{'time': 33, 'altitude': None, 'reason': 'merlin engine failure'}]</td>\n",
       "      <td>Engine failure at 33 seconds and loss of vehicle</td>\n",
       "      <td>[]</td>\n",
       "      <td>[]</td>\n",
       "      <td>[]</td>\n",
       "      <td>[5eb0e4b5b6c3bb0006eeb1e1]</td>\n",
       "      <td>5e9e4502f5090995de566f86</td>\n",
       "      <td>1</td>\n",
       "      <td>FalconSat</td>\n",
       "      <td>2006-03-24T22:30:00.000Z</td>\n",
       "      <td>1143239400</td>\n",
       "      <td>2006-03-25T10:30:00+12:00</td>\n",
       "      <td>hour</td>\n",
       "      <td>False</td>\n",
       "      <td>[{'core': '5e9e289df35918033d3b2623', 'flight': 1, 'gridfins': False, 'legs': False, 'reused': False, 'landing_attempt': False, 'landing_success': None, 'landing_type': None, 'landpad': None}]</td>\n",
       "      <td>True</td>\n",
       "      <td>False</td>\n",
       "      <td>None</td>\n",
       "      <td>5eb87cd9ffd86e000604b32a</td>\n",
       "      <td>False</td>\n",
       "      <td>False</td>\n",
       "      <td>False</td>\n",
       "      <td>[]</td>\n",
       "      <td>https://images2.imgbox.com/94/f2/NN6Ph45r_o.png</td>\n",
       "      <td>https://images2.imgbox.com/5b/02/QcxHUb5V_o.png</td>\n",
       "      <td>None</td>\n",
       "      <td>None</td>\n",
       "      <td>None</td>\n",
       "      <td>None</td>\n",
       "      <td>[]</td>\n",
       "      <td>[]</td>\n",
       "      <td>None</td>\n",
       "      <td>https://www.youtube.com/watch?v=0a_00nJ_Y88</td>\n",
       "      <td>0a_00nJ_Y88</td>\n",
       "      <td>https://www.space.com/2196-spacex-inaugural-falcon-1-rocket-lost-launch.html</td>\n",
       "      <td>https://en.wikipedia.org/wiki/DemoSat</td>\n",
       "      <td>NaN</td>\n",
       "    </tr>\n",
       "    <tr>\n",
       "      <th>1</th>\n",
       "      <td>None</td>\n",
       "      <td>NaN</td>\n",
       "      <td>False</td>\n",
       "      <td>0.0</td>\n",
       "      <td>5e9d0d95eda69955f709d1eb</td>\n",
       "      <td>False</td>\n",
       "      <td>[{'time': 301, 'altitude': 289, 'reason': 'harmonic oscillation leading to premature engine shutdown'}]</td>\n",
       "      <td>Successful first stage burn and transition to second stage, maximum altitude 289 km, Premature engine shutdown at T+7 min 30 s, Failed to reach orbit, Failed to recover first stage</td>\n",
       "      <td>[]</td>\n",
       "      <td>[]</td>\n",
       "      <td>[]</td>\n",
       "      <td>[5eb0e4b6b6c3bb0006eeb1e2]</td>\n",
       "      <td>5e9e4502f5090995de566f86</td>\n",
       "      <td>2</td>\n",
       "      <td>DemoSat</td>\n",
       "      <td>2007-03-21T01:10:00.000Z</td>\n",
       "      <td>1174439400</td>\n",
       "      <td>2007-03-21T13:10:00+12:00</td>\n",
       "      <td>hour</td>\n",
       "      <td>False</td>\n",
       "      <td>[{'core': '5e9e289ef35918416a3b2624', 'flight': 1, 'gridfins': False, 'legs': False, 'reused': False, 'landing_attempt': False, 'landing_success': None, 'landing_type': None, 'landpad': None}]</td>\n",
       "      <td>True</td>\n",
       "      <td>False</td>\n",
       "      <td>None</td>\n",
       "      <td>5eb87cdaffd86e000604b32b</td>\n",
       "      <td>False</td>\n",
       "      <td>False</td>\n",
       "      <td>False</td>\n",
       "      <td>[]</td>\n",
       "      <td>https://images2.imgbox.com/f9/4a/ZboXReNb_o.png</td>\n",
       "      <td>https://images2.imgbox.com/80/a2/bkWotCIS_o.png</td>\n",
       "      <td>None</td>\n",
       "      <td>None</td>\n",
       "      <td>None</td>\n",
       "      <td>None</td>\n",
       "      <td>[]</td>\n",
       "      <td>[]</td>\n",
       "      <td>None</td>\n",
       "      <td>https://www.youtube.com/watch?v=Lk4zQ2wP-Nc</td>\n",
       "      <td>Lk4zQ2wP-Nc</td>\n",
       "      <td>https://www.space.com/3590-spacex-falcon-1-rocket-fails-reach-orbit.html</td>\n",
       "      <td>https://en.wikipedia.org/wiki/DemoSat</td>\n",
       "      <td>NaN</td>\n",
       "    </tr>\n",
       "    <tr>\n",
       "      <th>2</th>\n",
       "      <td>None</td>\n",
       "      <td>NaN</td>\n",
       "      <td>False</td>\n",
       "      <td>0.0</td>\n",
       "      <td>5e9d0d95eda69955f709d1eb</td>\n",
       "      <td>False</td>\n",
       "      <td>[{'time': 140, 'altitude': 35, 'reason': 'residual stage-1 thrust led to collision between stage 1 and stage 2'}]</td>\n",
       "      <td>Residual stage 1 thrust led to collision between stage 1 and stage 2</td>\n",
       "      <td>[]</td>\n",
       "      <td>[]</td>\n",
       "      <td>[]</td>\n",
       "      <td>[5eb0e4b6b6c3bb0006eeb1e3, 5eb0e4b6b6c3bb0006eeb1e4]</td>\n",
       "      <td>5e9e4502f5090995de566f86</td>\n",
       "      <td>3</td>\n",
       "      <td>Trailblazer</td>\n",
       "      <td>2008-08-03T03:34:00.000Z</td>\n",
       "      <td>1217734440</td>\n",
       "      <td>2008-08-03T15:34:00+12:00</td>\n",
       "      <td>hour</td>\n",
       "      <td>False</td>\n",
       "      <td>[{'core': '5e9e289ef3591814873b2625', 'flight': 1, 'gridfins': False, 'legs': False, 'reused': False, 'landing_attempt': False, 'landing_success': None, 'landing_type': None, 'landpad': None}]</td>\n",
       "      <td>True</td>\n",
       "      <td>False</td>\n",
       "      <td>None</td>\n",
       "      <td>5eb87cdbffd86e000604b32c</td>\n",
       "      <td>False</td>\n",
       "      <td>False</td>\n",
       "      <td>False</td>\n",
       "      <td>[]</td>\n",
       "      <td>https://images2.imgbox.com/6c/cb/na1tzhHs_o.png</td>\n",
       "      <td>https://images2.imgbox.com/4a/80/k1oAkY0k_o.png</td>\n",
       "      <td>None</td>\n",
       "      <td>None</td>\n",
       "      <td>None</td>\n",
       "      <td>None</td>\n",
       "      <td>[]</td>\n",
       "      <td>[]</td>\n",
       "      <td>None</td>\n",
       "      <td>https://www.youtube.com/watch?v=v0w9p3U8860</td>\n",
       "      <td>v0w9p3U8860</td>\n",
       "      <td>http://www.spacex.com/news/2013/02/11/falcon-1-flight-3-mission-summary</td>\n",
       "      <td>https://en.wikipedia.org/wiki/Trailblazer_(satellite)</td>\n",
       "      <td>NaN</td>\n",
       "    </tr>\n",
       "    <tr>\n",
       "      <th>3</th>\n",
       "      <td>2008-09-20T00:00:00.000Z</td>\n",
       "      <td>1.221869e+09</td>\n",
       "      <td>False</td>\n",
       "      <td>0.0</td>\n",
       "      <td>5e9d0d95eda69955f709d1eb</td>\n",
       "      <td>True</td>\n",
       "      <td>[]</td>\n",
       "      <td>Ratsat was carried to orbit on the first successful orbital launch of any privately funded and developed, liquid-propelled carrier rocket, the SpaceX Falcon 1</td>\n",
       "      <td>[]</td>\n",
       "      <td>[]</td>\n",
       "      <td>[]</td>\n",
       "      <td>[5eb0e4b7b6c3bb0006eeb1e5]</td>\n",
       "      <td>5e9e4502f5090995de566f86</td>\n",
       "      <td>4</td>\n",
       "      <td>RatSat</td>\n",
       "      <td>2008-09-28T23:15:00.000Z</td>\n",
       "      <td>1222643700</td>\n",
       "      <td>2008-09-28T11:15:00+12:00</td>\n",
       "      <td>hour</td>\n",
       "      <td>False</td>\n",
       "      <td>[{'core': '5e9e289ef3591855dc3b2626', 'flight': 1, 'gridfins': False, 'legs': False, 'reused': False, 'landing_attempt': False, 'landing_success': None, 'landing_type': None, 'landpad': None}]</td>\n",
       "      <td>True</td>\n",
       "      <td>False</td>\n",
       "      <td>None</td>\n",
       "      <td>5eb87cdbffd86e000604b32d</td>\n",
       "      <td>False</td>\n",
       "      <td>False</td>\n",
       "      <td>False</td>\n",
       "      <td>[]</td>\n",
       "      <td>https://images2.imgbox.com/95/39/sRqN7rsv_o.png</td>\n",
       "      <td>https://images2.imgbox.com/a3/99/qswRYzE8_o.png</td>\n",
       "      <td>None</td>\n",
       "      <td>None</td>\n",
       "      <td>None</td>\n",
       "      <td>None</td>\n",
       "      <td>[]</td>\n",
       "      <td>[]</td>\n",
       "      <td>None</td>\n",
       "      <td>https://www.youtube.com/watch?v=dLQ2tZEH6G0</td>\n",
       "      <td>dLQ2tZEH6G0</td>\n",
       "      <td>https://en.wikipedia.org/wiki/Ratsat</td>\n",
       "      <td>https://en.wikipedia.org/wiki/Ratsat</td>\n",
       "      <td>NaN</td>\n",
       "    </tr>\n",
       "    <tr>\n",
       "      <th>4</th>\n",
       "      <td>None</td>\n",
       "      <td>NaN</td>\n",
       "      <td>False</td>\n",
       "      <td>0.0</td>\n",
       "      <td>5e9d0d95eda69955f709d1eb</td>\n",
       "      <td>True</td>\n",
       "      <td>[]</td>\n",
       "      <td>None</td>\n",
       "      <td>[]</td>\n",
       "      <td>[]</td>\n",
       "      <td>[]</td>\n",
       "      <td>[5eb0e4b7b6c3bb0006eeb1e6]</td>\n",
       "      <td>5e9e4502f5090995de566f86</td>\n",
       "      <td>5</td>\n",
       "      <td>RazakSat</td>\n",
       "      <td>2009-07-13T03:35:00.000Z</td>\n",
       "      <td>1247456100</td>\n",
       "      <td>2009-07-13T15:35:00+12:00</td>\n",
       "      <td>hour</td>\n",
       "      <td>False</td>\n",
       "      <td>[{'core': '5e9e289ef359184f103b2627', 'flight': 1, 'gridfins': False, 'legs': False, 'reused': False, 'landing_attempt': False, 'landing_success': None, 'landing_type': None, 'landpad': None}]</td>\n",
       "      <td>True</td>\n",
       "      <td>False</td>\n",
       "      <td>None</td>\n",
       "      <td>5eb87cdcffd86e000604b32e</td>\n",
       "      <td>False</td>\n",
       "      <td>False</td>\n",
       "      <td>False</td>\n",
       "      <td>[]</td>\n",
       "      <td>https://images2.imgbox.com/ab/5a/Pequxd5d_o.png</td>\n",
       "      <td>https://images2.imgbox.com/92/e4/7Cf6MLY0_o.png</td>\n",
       "      <td>None</td>\n",
       "      <td>None</td>\n",
       "      <td>None</td>\n",
       "      <td>None</td>\n",
       "      <td>[]</td>\n",
       "      <td>[]</td>\n",
       "      <td>http://www.spacex.com/press/2012/12/19/spacexs-falcon-1-successfully-delivers-razaksat-satellite-orbit</td>\n",
       "      <td>https://www.youtube.com/watch?v=yTaIDooc8Og</td>\n",
       "      <td>yTaIDooc8Og</td>\n",
       "      <td>http://www.spacex.com/news/2013/02/12/falcon-1-flight-5</td>\n",
       "      <td>https://en.wikipedia.org/wiki/RazakSAT</td>\n",
       "      <td>NaN</td>\n",
       "    </tr>\n",
       "  </tbody>\n",
       "</table>\n",
       "</div>"
      ],
      "text/plain": [
       "       static_fire_date_utc  static_fire_date_unix    net  window  \\\n",
       "0  2006-03-17T00:00:00.000Z           1.142554e+09  False     0.0   \n",
       "1                      None                    NaN  False     0.0   \n",
       "2                      None                    NaN  False     0.0   \n",
       "3  2008-09-20T00:00:00.000Z           1.221869e+09  False     0.0   \n",
       "4                      None                    NaN  False     0.0   \n",
       "\n",
       "                     rocket success  \\\n",
       "0  5e9d0d95eda69955f709d1eb   False   \n",
       "1  5e9d0d95eda69955f709d1eb   False   \n",
       "2  5e9d0d95eda69955f709d1eb   False   \n",
       "3  5e9d0d95eda69955f709d1eb    True   \n",
       "4  5e9d0d95eda69955f709d1eb    True   \n",
       "\n",
       "                                                                                                            failures  \\\n",
       "0                                                [{'time': 33, 'altitude': None, 'reason': 'merlin engine failure'}]   \n",
       "1            [{'time': 301, 'altitude': 289, 'reason': 'harmonic oscillation leading to premature engine shutdown'}]   \n",
       "2  [{'time': 140, 'altitude': 35, 'reason': 'residual stage-1 thrust led to collision between stage 1 and stage 2'}]   \n",
       "3                                                                                                                 []   \n",
       "4                                                                                                                 []   \n",
       "\n",
       "                                                                                                                                                                                details  \\\n",
       "0                                                                                                                                      Engine failure at 33 seconds and loss of vehicle   \n",
       "1  Successful first stage burn and transition to second stage, maximum altitude 289 km, Premature engine shutdown at T+7 min 30 s, Failed to reach orbit, Failed to recover first stage   \n",
       "2                                                                                                                  Residual stage 1 thrust led to collision between stage 1 and stage 2   \n",
       "3                        Ratsat was carried to orbit on the first successful orbital launch of any privately funded and developed, liquid-propelled carrier rocket, the SpaceX Falcon 1   \n",
       "4                                                                                                                                                                                  None   \n",
       "\n",
       "  crew ships capsules                                              payloads  \\\n",
       "0   []    []       []                            [5eb0e4b5b6c3bb0006eeb1e1]   \n",
       "1   []    []       []                            [5eb0e4b6b6c3bb0006eeb1e2]   \n",
       "2   []    []       []  [5eb0e4b6b6c3bb0006eeb1e3, 5eb0e4b6b6c3bb0006eeb1e4]   \n",
       "3   []    []       []                            [5eb0e4b7b6c3bb0006eeb1e5]   \n",
       "4   []    []       []                            [5eb0e4b7b6c3bb0006eeb1e6]   \n",
       "\n",
       "                  launchpad  flight_number         name  \\\n",
       "0  5e9e4502f5090995de566f86              1    FalconSat   \n",
       "1  5e9e4502f5090995de566f86              2      DemoSat   \n",
       "2  5e9e4502f5090995de566f86              3  Trailblazer   \n",
       "3  5e9e4502f5090995de566f86              4       RatSat   \n",
       "4  5e9e4502f5090995de566f86              5     RazakSat   \n",
       "\n",
       "                   date_utc   date_unix                 date_local  \\\n",
       "0  2006-03-24T22:30:00.000Z  1143239400  2006-03-25T10:30:00+12:00   \n",
       "1  2007-03-21T01:10:00.000Z  1174439400  2007-03-21T13:10:00+12:00   \n",
       "2  2008-08-03T03:34:00.000Z  1217734440  2008-08-03T15:34:00+12:00   \n",
       "3  2008-09-28T23:15:00.000Z  1222643700  2008-09-28T11:15:00+12:00   \n",
       "4  2009-07-13T03:35:00.000Z  1247456100  2009-07-13T15:35:00+12:00   \n",
       "\n",
       "  date_precision  upcoming  \\\n",
       "0           hour     False   \n",
       "1           hour     False   \n",
       "2           hour     False   \n",
       "3           hour     False   \n",
       "4           hour     False   \n",
       "\n",
       "                                                                                                                                                                                              cores  \\\n",
       "0  [{'core': '5e9e289df35918033d3b2623', 'flight': 1, 'gridfins': False, 'legs': False, 'reused': False, 'landing_attempt': False, 'landing_success': None, 'landing_type': None, 'landpad': None}]   \n",
       "1  [{'core': '5e9e289ef35918416a3b2624', 'flight': 1, 'gridfins': False, 'legs': False, 'reused': False, 'landing_attempt': False, 'landing_success': None, 'landing_type': None, 'landpad': None}]   \n",
       "2  [{'core': '5e9e289ef3591814873b2625', 'flight': 1, 'gridfins': False, 'legs': False, 'reused': False, 'landing_attempt': False, 'landing_success': None, 'landing_type': None, 'landpad': None}]   \n",
       "3  [{'core': '5e9e289ef3591855dc3b2626', 'flight': 1, 'gridfins': False, 'legs': False, 'reused': False, 'landing_attempt': False, 'landing_success': None, 'landing_type': None, 'landpad': None}]   \n",
       "4  [{'core': '5e9e289ef359184f103b2627', 'flight': 1, 'gridfins': False, 'legs': False, 'reused': False, 'landing_attempt': False, 'landing_success': None, 'landing_type': None, 'landpad': None}]   \n",
       "\n",
       "   auto_update    tbd launch_library_id                        id  \\\n",
       "0         True  False              None  5eb87cd9ffd86e000604b32a   \n",
       "1         True  False              None  5eb87cdaffd86e000604b32b   \n",
       "2         True  False              None  5eb87cdbffd86e000604b32c   \n",
       "3         True  False              None  5eb87cdbffd86e000604b32d   \n",
       "4         True  False              None  5eb87cdcffd86e000604b32e   \n",
       "\n",
       "  fairings.reused fairings.recovery_attempt fairings.recovered fairings.ships  \\\n",
       "0           False                     False              False             []   \n",
       "1           False                     False              False             []   \n",
       "2           False                     False              False             []   \n",
       "3           False                     False              False             []   \n",
       "4           False                     False              False             []   \n",
       "\n",
       "                                 links.patch.small  \\\n",
       "0  https://images2.imgbox.com/94/f2/NN6Ph45r_o.png   \n",
       "1  https://images2.imgbox.com/f9/4a/ZboXReNb_o.png   \n",
       "2  https://images2.imgbox.com/6c/cb/na1tzhHs_o.png   \n",
       "3  https://images2.imgbox.com/95/39/sRqN7rsv_o.png   \n",
       "4  https://images2.imgbox.com/ab/5a/Pequxd5d_o.png   \n",
       "\n",
       "                                 links.patch.large links.reddit.campaign  \\\n",
       "0  https://images2.imgbox.com/5b/02/QcxHUb5V_o.png                  None   \n",
       "1  https://images2.imgbox.com/80/a2/bkWotCIS_o.png                  None   \n",
       "2  https://images2.imgbox.com/4a/80/k1oAkY0k_o.png                  None   \n",
       "3  https://images2.imgbox.com/a3/99/qswRYzE8_o.png                  None   \n",
       "4  https://images2.imgbox.com/92/e4/7Cf6MLY0_o.png                  None   \n",
       "\n",
       "  links.reddit.launch links.reddit.media links.reddit.recovery  \\\n",
       "0                None               None                  None   \n",
       "1                None               None                  None   \n",
       "2                None               None                  None   \n",
       "3                None               None                  None   \n",
       "4                None               None                  None   \n",
       "\n",
       "  links.flickr.small links.flickr.original  \\\n",
       "0                 []                    []   \n",
       "1                 []                    []   \n",
       "2                 []                    []   \n",
       "3                 []                    []   \n",
       "4                 []                    []   \n",
       "\n",
       "                                                                                           links.presskit  \\\n",
       "0                                                                                                    None   \n",
       "1                                                                                                    None   \n",
       "2                                                                                                    None   \n",
       "3                                                                                                    None   \n",
       "4  http://www.spacex.com/press/2012/12/19/spacexs-falcon-1-successfully-delivers-razaksat-satellite-orbit   \n",
       "\n",
       "                                 links.webcast links.youtube_id  \\\n",
       "0  https://www.youtube.com/watch?v=0a_00nJ_Y88      0a_00nJ_Y88   \n",
       "1  https://www.youtube.com/watch?v=Lk4zQ2wP-Nc      Lk4zQ2wP-Nc   \n",
       "2  https://www.youtube.com/watch?v=v0w9p3U8860      v0w9p3U8860   \n",
       "3  https://www.youtube.com/watch?v=dLQ2tZEH6G0      dLQ2tZEH6G0   \n",
       "4  https://www.youtube.com/watch?v=yTaIDooc8Og      yTaIDooc8Og   \n",
       "\n",
       "                                                                  links.article  \\\n",
       "0  https://www.space.com/2196-spacex-inaugural-falcon-1-rocket-lost-launch.html   \n",
       "1      https://www.space.com/3590-spacex-falcon-1-rocket-fails-reach-orbit.html   \n",
       "2       http://www.spacex.com/news/2013/02/11/falcon-1-flight-3-mission-summary   \n",
       "3                                          https://en.wikipedia.org/wiki/Ratsat   \n",
       "4                       http://www.spacex.com/news/2013/02/12/falcon-1-flight-5   \n",
       "\n",
       "                                         links.wikipedia  fairings  \n",
       "0                  https://en.wikipedia.org/wiki/DemoSat       NaN  \n",
       "1                  https://en.wikipedia.org/wiki/DemoSat       NaN  \n",
       "2  https://en.wikipedia.org/wiki/Trailblazer_(satellite)       NaN  \n",
       "3                   https://en.wikipedia.org/wiki/Ratsat       NaN  \n",
       "4                 https://en.wikipedia.org/wiki/RazakSAT       NaN  "
      ]
     },
     "execution_count": 3,
     "metadata": {},
     "output_type": "execute_result"
    }
   ],
   "source": [
    "spacex_url=\"https://api.spacexdata.com/v4/launches/past\"\n",
    "response = requests.get(spacex_url)\n",
    "\n",
    "# Use json_normalize meethod to convert the json result into a dataframe\n",
    "data_API = pd.json_normalize(response.json())\n",
    "\n",
    "# Get the head of the dataframe\n",
    "data_API.head()"
   ]
  },
  {
   "cell_type": "code",
   "execution_count": 4,
   "id": "169a21ea-6420-4a34-89a7-aa8827e6222e",
   "metadata": {},
   "outputs": [],
   "source": [
    "# Lets take a subset of our dataframe keeping only the features we want and the flight number, and date_utc.\n",
    "data_API = data_API[['rocket', 'payloads', 'launchpad', 'cores', 'flight_number', 'date_utc']]\n",
    "\n",
    "# We will remove rows with multiple cores because those are falcon rockets with 2 extra rocket boosters and rows that have multiple payloads in a single rocket.\n",
    "data_API = data_API[data_API['cores'].map(len)==1]\n",
    "data_API = data_API[data_API['payloads'].map(len)==1]\n",
    "\n",
    "# Since payloads and cores are lists of size 1 we will also extract the single value in the list and replace the feature.\n",
    "data_API['cores'] = data_API['cores'].map(lambda x : x[0])\n",
    "data_API['payloads'] = data_API['payloads'].map(lambda x : x[0])\n",
    "\n",
    "# We also want to convert the date_utc to a datetime datatype and then extracting the date leaving the time\n",
    "data_API['date'] = pd.to_datetime(data_API['date_utc']).dt.date\n",
    "\n",
    "# Using the date we will restrict the dates of the launches\n",
    "data_API = data_API[data_API['date'] <= datetime.date(2020, 11, 13)]"
   ]
  },
  {
   "cell_type": "markdown",
   "id": "e7afc97a-0e55-4ab5-b6cc-9d3f50a19845",
   "metadata": {},
   "source": [
    "### Use auxiliary functions to store data in lists and create a new dataframe"
   ]
  },
  {
   "cell_type": "code",
   "execution_count": 5,
   "id": "b025ee51-e6ad-4a6f-b930-46094c53ae87",
   "metadata": {},
   "outputs": [],
   "source": [
    "#Global variables \n",
    "BoosterVersion = []\n",
    "PayloadMass = []\n",
    "Orbit = []\n",
    "LaunchSite = []\n",
    "Outcome = []\n",
    "Flights = []\n",
    "GridFins = []\n",
    "Reused = []\n",
    "Legs = []\n",
    "LandingPad = []\n",
    "Block = []\n",
    "ReusedCount = []\n",
    "Serial = []\n",
    "Longitude = []\n",
    "Latitude = []"
   ]
  },
  {
   "cell_type": "code",
   "execution_count": 12,
   "id": "ca4398ef-cc10-4671-accf-54327db9ccee",
   "metadata": {},
   "outputs": [],
   "source": [
    "def getBoosterVersion(data_API):\n",
    "   \n",
    "    pass  \n",
    "    \n",
    "# Call the function after defining it\n",
    "getBoosterVersion(data_API)\n"
   ]
  },
  {
   "cell_type": "code",
   "execution_count": 14,
   "id": "df73ae39-93ab-498a-9897-2b0201d35c60",
   "metadata": {},
   "outputs": [],
   "source": [
    "def getLaunchSite(data):\n",
    "    # Function implementation here\n",
    "    pass"
   ]
  },
  {
   "cell_type": "code",
   "execution_count": 17,
   "id": "265d927e-ac94-495d-9028-e4b5be774eea",
   "metadata": {},
   "outputs": [],
   "source": [
    "def getPayloadData(data):\n",
    "    # Function implementation here\n",
    "    pass"
   ]
  },
  {
   "cell_type": "code",
   "execution_count": 19,
   "id": "196d0b2a-4148-46d8-870f-2c8670cdda85",
   "metadata": {},
   "outputs": [],
   "source": [
    "def getCoreData(data):\n",
    "    # Function implementation here\n",
    "    pass"
   ]
  },
  {
   "cell_type": "code",
   "execution_count": 20,
   "id": "55fc31eb-8154-4f66-9b30-ff9d83bb19d6",
   "metadata": {},
   "outputs": [],
   "source": [
    "# Call Auxiliary Functions\n",
    "getBoosterVersion(data_API)\n",
    "getLaunchSite(data_API)\n",
    "getPayloadData(data_API)\n",
    "getCoreData(data_API)"
   ]
  },
  {
   "cell_type": "code",
   "execution_count": 24,
   "id": "5c72b0fc-02b2-4e20-a5f8-528cefcc0fec",
   "metadata": {},
   "outputs": [
    {
     "name": "stdout",
     "output_type": "stream",
     "text": [
      "FlightNumber: 94\n",
      "Date: 94\n",
      "BoosterVersion: 0\n",
      "PayloadMass: 0\n",
      "Orbit: 0\n",
      "LaunchSite: 0\n",
      "Outcome: 0\n",
      "Flights: 0\n",
      "GridFins: 0\n",
      "Reused: 0\n",
      "Legs: 0\n",
      "LandingPad: 0\n",
      "Block: 0\n",
      "ReusedCount: 0\n",
      "Serial: 0\n",
      "Longitude: 0\n",
      "Latitude: 0\n"
     ]
    }
   ],
   "source": [
    "print(\"FlightNumber:\", len(list(data_API['flight_number'])))\n",
    "print(\"Date:\", len(list(data_API['date'])))\n",
    "print(\"BoosterVersion:\", len(BoosterVersion))\n",
    "print(\"PayloadMass:\", len(PayloadMass))\n",
    "print(\"Orbit:\", len(Orbit))\n",
    "print(\"LaunchSite:\", len(LaunchSite))\n",
    "print(\"Outcome:\", len(Outcome))\n",
    "print(\"Flights:\", len(Flights))\n",
    "print(\"GridFins:\", len(GridFins))\n",
    "print(\"Reused:\", len(Reused))\n",
    "print(\"Legs:\", len(Legs))\n",
    "print(\"LandingPad:\", len(LandingPad))\n",
    "print(\"Block:\", len(Block))\n",
    "print(\"ReusedCount:\", len(ReusedCount))\n",
    "print(\"Serial:\", len(Serial))\n",
    "print(\"Longitude:\", len(Longitude))\n",
    "print(\"Latitude:\", len(Latitude))"
   ]
  },
  {
   "cell_type": "markdown",
   "id": "9abcf5f9-2557-41b0-b44c-30670a27c22f",
   "metadata": {},
   "source": [
    "# Data wrangling"
   ]
  },
  {
   "cell_type": "markdown",
   "id": "b0f0bbb2-a78e-4b38-9706-ed4441a14856",
   "metadata": {},
   "source": [
    "### Filter the dataframe to only include `Falcon 9` launches"
   ]
  },
  {
   "cell_type": "code",
   "execution_count": 30,
   "id": "eb58d0cb-1a62-4ff7-9d43-0ee6c212592d",
   "metadata": {},
   "outputs": [
    {
     "name": "stdout",
     "output_type": "stream",
     "text": [
      "FlightNumber: 94\n",
      "Date: 94\n",
      "BoosterVersion: 0\n",
      "PayloadMass: 0\n",
      "Orbit: 0\n",
      "LaunchSite: 0\n",
      "Outcome: 0\n",
      "Flights: 0\n",
      "GridFins: 0\n",
      "Reused: 0\n",
      "Legs: 0\n",
      "LandingPad: 0\n",
      "Block: 0\n",
      "ReusedCount: 0\n",
      "Serial: 0\n",
      "Longitude: 0\n",
      "Latitude: 0\n"
     ]
    }
   ],
   "source": [
    "for key, value in dict_API.items():\n",
    "    print(f\"{key}: {len(value)}\")"
   ]
  },
  {
   "cell_type": "code",
   "execution_count": 31,
   "id": "95513086-fd0d-4810-9297-19b28b2d51ea",
   "metadata": {},
   "outputs": [],
   "source": [
    "min_length = min(len(v) for v in dict_API.values())\n",
    "dict_API = {k: v[:min_length] for k, v in dict_API.items()}"
   ]
  },
  {
   "cell_type": "code",
   "execution_count": 32,
   "id": "3dd1b146-6c38-4634-a50d-0d8b86ef5119",
   "metadata": {},
   "outputs": [],
   "source": [
    "max_length = max(len(v) for v in dict_API.values())\n",
    "for k, v in dict_API.items():\n",
    "    if len(v) < max_length:\n",
    "        dict_API[k] = v + [None] * (max_length - len(v))"
   ]
  },
  {
   "cell_type": "code",
   "execution_count": 33,
   "id": "67b958e3-4077-49d8-a92e-db7335112983",
   "metadata": {},
   "outputs": [],
   "source": [
    "df_API = pd.DataFrame(dict_API)"
   ]
  },
  {
   "cell_type": "code",
   "execution_count": 34,
   "id": "f11bdb20-029e-4af7-947c-9506fce6efd4",
   "metadata": {},
   "outputs": [
    {
     "data": {
      "text/html": [
       "<div>\n",
       "<style scoped>\n",
       "    .dataframe tbody tr th:only-of-type {\n",
       "        vertical-align: middle;\n",
       "    }\n",
       "\n",
       "    .dataframe tbody tr th {\n",
       "        vertical-align: top;\n",
       "    }\n",
       "\n",
       "    .dataframe thead th {\n",
       "        text-align: right;\n",
       "    }\n",
       "</style>\n",
       "<table border=\"1\" class=\"dataframe\">\n",
       "  <thead>\n",
       "    <tr style=\"text-align: right;\">\n",
       "      <th></th>\n",
       "      <th>FlightNumber</th>\n",
       "      <th>Date</th>\n",
       "      <th>BoosterVersion</th>\n",
       "      <th>PayloadMass</th>\n",
       "      <th>Orbit</th>\n",
       "      <th>LaunchSite</th>\n",
       "      <th>Outcome</th>\n",
       "      <th>Flights</th>\n",
       "      <th>GridFins</th>\n",
       "      <th>Reused</th>\n",
       "      <th>Legs</th>\n",
       "      <th>LandingPad</th>\n",
       "      <th>Block</th>\n",
       "      <th>ReusedCount</th>\n",
       "      <th>Serial</th>\n",
       "      <th>Longitude</th>\n",
       "      <th>Latitude</th>\n",
       "    </tr>\n",
       "  </thead>\n",
       "  <tbody>\n",
       "  </tbody>\n",
       "</table>\n",
       "</div>"
      ],
      "text/plain": [
       "Empty DataFrame\n",
       "Columns: [FlightNumber, Date, BoosterVersion, PayloadMass, Orbit, LaunchSite, Outcome, Flights, GridFins, Reused, Legs, LandingPad, Block, ReusedCount, Serial, Longitude, Latitude]\n",
       "Index: []"
      ]
     },
     "execution_count": 34,
     "metadata": {},
     "output_type": "execute_result"
    }
   ],
   "source": [
    "df = df_API[df_API['BoosterVersion']=='Falcon 9']\n",
    "df.loc[:,'FlightNumber'] = list(range(1, df.shape[0]+1))\n",
    "df = df.reset_index(drop=True)\n",
    "df.head()"
   ]
  },
  {
   "cell_type": "markdown",
   "id": "2c2b6421-2ef3-4257-a71a-3b116ae20fb4",
   "metadata": {},
   "source": [
    "### Dealing with Missing Values"
   ]
  },
  {
   "cell_type": "code",
   "execution_count": 36,
   "id": "8031c794-8905-4ccb-994c-82f15210dded",
   "metadata": {},
   "outputs": [
    {
     "data": {
      "text/plain": [
       "FlightNumber      0\n",
       "Date              0\n",
       "BoosterVersion    0\n",
       "PayloadMass       0\n",
       "Orbit             0\n",
       "LaunchSite        0\n",
       "Outcome           0\n",
       "Flights           0\n",
       "GridFins          0\n",
       "Reused            0\n",
       "Legs              0\n",
       "LandingPad        0\n",
       "Block             0\n",
       "ReusedCount       0\n",
       "Serial            0\n",
       "Longitude         0\n",
       "Latitude          0\n",
       "dtype: int64"
      ]
     },
     "execution_count": 36,
     "metadata": {},
     "output_type": "execute_result"
    }
   ],
   "source": [
    "# We can see below that some of the rows are missing values in our dataset\n",
    "df.isnull().sum()"
   ]
  },
  {
   "cell_type": "code",
   "execution_count": 37,
   "id": "e94e82ae-7651-4ea1-93ba-6e095a9e5cdf",
   "metadata": {},
   "outputs": [],
   "source": [
    "# find all landing outcome\r\n",
    "landing_outcomes = df['Outcome'].value_counts()\r\n",
    "for i,outcome in enumerate(landing_outcomes.keys()):\r\n",
    "    print(i,outcome)"
   ]
  },
  {
   "cell_type": "code",
   "execution_count": 39,
   "id": "e082c110-3ee3-490c-ba21-92043bbcd8aa",
   "metadata": {},
   "outputs": [
    {
     "name": "stdout",
     "output_type": "stream",
     "text": [
      "Series([], Name: count, dtype: int64)\n",
      "0\n"
     ]
    }
   ],
   "source": [
    "print(landing_outcomes)\n",
    "print(len(landing_outcomes))"
   ]
  },
  {
   "cell_type": "code",
   "execution_count": 40,
   "id": "d2cd605c-87f6-49bb-b43f-93cbae873ff8",
   "metadata": {},
   "outputs": [
    {
     "name": "stdout",
     "output_type": "stream",
     "text": [
      "set()\n"
     ]
    }
   ],
   "source": [
    "bad_outcomes = set()\n",
    "all_outcomes = list(landing_outcomes.keys())\n",
    "\n",
    "# Add outcomes to bad_outcomes if they exist\n",
    "indices_to_check = [1, 3, 5, 6, 7]\n",
    "for index in indices_to_check:\n",
    "    if index < len(all_outcomes):\n",
    "        bad_outcomes.add(all_outcomes[index])\n",
    "\n",
    "print(bad_outcomes)"
   ]
  },
  {
   "cell_type": "code",
   "execution_count": 47,
   "id": "0e9b6a24-ee6e-4eef-8ed7-c63132292599",
   "metadata": {},
   "outputs": [
    {
     "name": "stdout",
     "output_type": "stream",
     "text": [
      "{'Precluded (drone ship)', 'Uncontrolled (ocean)', 'Failure (drone ship)', 'Failure (parachute)'}\n"
     ]
    }
   ],
   "source": [
    "bad_outcomes = set(outcome for outcome, index in landing_outcomes.items() if index in [1, 3, 5, 6, 7])\n",
    "print(bad_outcomes)"
   ]
  },
  {
   "cell_type": "code",
   "execution_count": 51,
   "id": "517cbca1-6092-46d8-a99f-91bbb2b15ca9",
   "metadata": {},
   "outputs": [],
   "source": [
    "# Calculate the mean value of PayloadMass column\n",
    "PayloadMass_mean = df['PayloadMass'].mean()\n",
    "\n",
    "# Replace the np.nan values with its mean value\n",
    "df.loc[:, 'PayloadMass'] = df['PayloadMass'].fillna(PayloadMass_mean)"
   ]
  },
  {
   "cell_type": "code",
   "execution_count": 52,
   "id": "e1d53fd2-1601-4470-a091-8dc4be3f0e22",
   "metadata": {},
   "outputs": [],
   "source": [
    "# Calculate the mean value of PayloadMass column\n",
    "PayloadMass_mean = df['PayloadMass'].mean()\n",
    "\n",
    "# Replace the np.nan values with its mean value\n",
    "df = df.fillna({'PayloadMass': PayloadMass_mean})"
   ]
  },
  {
   "cell_type": "code",
   "execution_count": 53,
   "id": "a9210570-2347-4d8d-a543-f5652a549671",
   "metadata": {},
   "outputs": [],
   "source": [
    "# Calculate the mean value of PayloadMass column\n",
    "PayloadMass_mean = df['PayloadMass'].mean()\n",
    "\n",
    "# Replace the np.nan values with its mean value\n",
    "df = df.replace({'PayloadMass': {np.nan: PayloadMass_mean}})"
   ]
  },
  {
   "cell_type": "code",
   "execution_count": 54,
   "id": "ccb9cf65-2fd3-4513-909a-459ac9f2f368",
   "metadata": {},
   "outputs": [
    {
     "data": {
      "text/plain": [
       "FlightNumber      0\n",
       "Date              0\n",
       "BoosterVersion    0\n",
       "PayloadMass       0\n",
       "Orbit             0\n",
       "LaunchSite        0\n",
       "Outcome           0\n",
       "Flights           0\n",
       "GridFins          0\n",
       "Reused            0\n",
       "Legs              0\n",
       "LandingPad        0\n",
       "Block             0\n",
       "ReusedCount       0\n",
       "Serial            0\n",
       "Longitude         0\n",
       "Latitude          0\n",
       "dtype: int64"
      ]
     },
     "execution_count": 54,
     "metadata": {},
     "output_type": "execute_result"
    }
   ],
   "source": [
    "# The number of missing values of the PayLoadMass column change to zero\n",
    "df.isnull().sum()"
   ]
  },
  {
   "cell_type": "markdown",
   "id": "688a53ec-378c-4891-b2de-4b47b22d2d02",
   "metadata": {},
   "source": [
    "### Create a landing outcome label from Outcome column"
   ]
  },
  {
   "cell_type": "code",
   "execution_count": 55,
   "id": "70396f4e-4f12-4098-af75-bb2f9b3a2122",
   "metadata": {},
   "outputs": [],
   "source": [
    "# find all landing outcome\n",
    "landing_outcomes = df['Outcome'].value_counts()\n",
    "for i,outcome in enumerate(landing_outcomes.keys()):\n",
    "    print(i,outcome)"
   ]
  },
  {
   "cell_type": "code",
   "execution_count": 57,
   "id": "c54ca9c3-7ae8-4b96-95fd-35f9cb7c4f1e",
   "metadata": {},
   "outputs": [
    {
     "name": "stdout",
     "output_type": "stream",
     "text": [
      "Series([], Name: count, dtype: int64)\n",
      "<class 'pandas.core.series.Series'>\n",
      "0\n"
     ]
    }
   ],
   "source": [
    "print(landing_outcomes)\n",
    "print(type(landing_outcomes))\n",
    "print(len(landing_outcomes))"
   ]
  },
  {
   "cell_type": "code",
   "execution_count": 58,
   "id": "37b08fcc-f5a7-4da8-a582-8c9b829a03fe",
   "metadata": {},
   "outputs": [],
   "source": [
    "landing_outcomes = {\n",
    "    'Success': 0,\n",
    "    'Failure (drone ship)': 1,\n",
    "    'Success (ground pad)': 2,\n",
    "    'Failure (parachute)': 3,\n",
    "    'Failure (landing burn)': 4,\n",
    "    'Precluded (drone ship)': 5,\n",
    "    'Uncontrolled (ocean)': 6\n",
    "}"
   ]
  },
  {
   "cell_type": "code",
   "execution_count": 59,
   "id": "2a15f191-e848-40bd-95dc-045ba30b74cb",
   "metadata": {},
   "outputs": [],
   "source": [
    "bad_outcomes = {outcome for outcome, index in landing_outcomes.items() if index in [1, 3, 5, 6, 7]}"
   ]
  },
  {
   "cell_type": "code",
   "execution_count": 60,
   "id": "4c2a7fde-1914-48b9-889e-f24df442c83a",
   "metadata": {},
   "outputs": [],
   "source": [
    "# identify good and bad outcome\n",
    "# landing_class = 0 if bad_outcome\n",
    "# landing_class = 1 otherwise\n",
    "landing_class = []\n",
    "for outcome in df['Outcome']:\n",
    "    if outcome in bad_outcomes:\n",
    "        landing_class.append(0)\n",
    "    else:\n",
    "        landing_class.append(1)"
   ]
  },
  {
   "cell_type": "code",
   "execution_count": 61,
   "id": "455b8516-ec4d-4e79-b6f6-97d6b7fc5941",
   "metadata": {},
   "outputs": [
    {
     "data": {
      "text/html": [
       "<div>\n",
       "<style scoped>\n",
       "    .dataframe tbody tr th:only-of-type {\n",
       "        vertical-align: middle;\n",
       "    }\n",
       "\n",
       "    .dataframe tbody tr th {\n",
       "        vertical-align: top;\n",
       "    }\n",
       "\n",
       "    .dataframe thead th {\n",
       "        text-align: right;\n",
       "    }\n",
       "</style>\n",
       "<table border=\"1\" class=\"dataframe\">\n",
       "  <thead>\n",
       "    <tr style=\"text-align: right;\">\n",
       "      <th></th>\n",
       "      <th>FlightNumber</th>\n",
       "      <th>Date</th>\n",
       "      <th>BoosterVersion</th>\n",
       "      <th>PayloadMass</th>\n",
       "      <th>Orbit</th>\n",
       "      <th>LaunchSite</th>\n",
       "      <th>Outcome</th>\n",
       "      <th>Flights</th>\n",
       "      <th>GridFins</th>\n",
       "      <th>Reused</th>\n",
       "      <th>Legs</th>\n",
       "      <th>LandingPad</th>\n",
       "      <th>Block</th>\n",
       "      <th>ReusedCount</th>\n",
       "      <th>Serial</th>\n",
       "      <th>Longitude</th>\n",
       "      <th>Latitude</th>\n",
       "      <th>Class</th>\n",
       "    </tr>\n",
       "  </thead>\n",
       "  <tbody>\n",
       "  </tbody>\n",
       "</table>\n",
       "</div>"
      ],
      "text/plain": [
       "Empty DataFrame\n",
       "Columns: [FlightNumber, Date, BoosterVersion, PayloadMass, Orbit, LaunchSite, Outcome, Flights, GridFins, Reused, Legs, LandingPad, Block, ReusedCount, Serial, Longitude, Latitude, Class]\n",
       "Index: []"
      ]
     },
     "execution_count": 61,
     "metadata": {},
     "output_type": "execute_result"
    }
   ],
   "source": [
    "# add to dataframe\n",
    "df['Class']=landing_class\n",
    "df.head()"
   ]
  },
  {
   "cell_type": "markdown",
   "id": "7ab2b308-f8c1-4ca7-b89c-6f3b425d155e",
   "metadata": {},
   "source": [
    "### Identify data type of each column"
   ]
  },
  {
   "cell_type": "code",
   "execution_count": 62,
   "id": "3c89b2f6-e220-4163-a6c9-89602c383ba1",
   "metadata": {},
   "outputs": [
    {
     "data": {
      "text/plain": [
       "FlightNumber      float64\n",
       "Date              float64\n",
       "BoosterVersion    float64\n",
       "PayloadMass       float64\n",
       "Orbit             float64\n",
       "LaunchSite        float64\n",
       "Outcome           float64\n",
       "Flights           float64\n",
       "GridFins          float64\n",
       "Reused            float64\n",
       "Legs              float64\n",
       "LandingPad        float64\n",
       "Block             float64\n",
       "ReusedCount       float64\n",
       "Serial            float64\n",
       "Longitude         float64\n",
       "Latitude          float64\n",
       "Class             float64\n",
       "dtype: object"
      ]
     },
     "execution_count": 62,
     "metadata": {},
     "output_type": "execute_result"
    }
   ],
   "source": [
    "df.dtypes"
   ]
  },
  {
   "cell_type": "markdown",
   "id": "47b5484b-abd5-4f9f-a682-36917da2aeb1",
   "metadata": {},
   "source": [
    "# Exploratory data analysis"
   ]
  },
  {
   "cell_type": "markdown",
   "id": "04f0709a-7a76-4124-b001-cc143ae940e3",
   "metadata": {},
   "source": [
    "## Pandas"
   ]
  },
  {
   "cell_type": "markdown",
   "id": "3a04d69c-7274-4f48-9dc8-b5f3ecfd2974",
   "metadata": {},
   "source": [
    "### Calculate the number of launches on each site\n",
    "The data contains several Space X  launch facilities: <a href='https://en.wikipedia.org/wiki/List_of_Cape_Canaveral_and_Merritt_Island_launch_sites?utm_medium=Exinfluencer&utm_source=Exinfluencer&utm_content=000026UJ&utm_term=10006555&utm_id=NA-SkillsNetwork-Channel-SkillsNetworkCoursesIBMDS0321ENSkillsNetwork26802033-2022-01-01'>Cape Canaveral Space</a> Launch Complex 40  <b>VAFB SLC 4E </b> , Vandenberg Air Force Base Space Launch Complex 4E <b>(SLC-4E)</b>, Kennedy Space Center Launch Complex 39A <b>KSC LC 39A </b>.The location of each Launch Is placed in the column <code>LaunchSite</code>"
   ]
  },
  {
   "cell_type": "code",
   "execution_count": 63,
   "id": "b5e00013-7227-42b1-b814-7f22db1c4d69",
   "metadata": {},
   "outputs": [
    {
     "data": {
      "text/plain": [
       "Series([], Name: count, dtype: int64)"
      ]
     },
     "execution_count": 63,
     "metadata": {},
     "output_type": "execute_result"
    }
   ],
   "source": [
    "df['LaunchSite'].value_counts()"
   ]
  },
  {
   "cell_type": "markdown",
   "id": "1783015c-5b23-428f-a235-5bc78a38e791",
   "metadata": {},
   "source": [
    "### Calculate the number and occurrence of each orbit\n",
    "Here are some common orbit types:\n",
    "*   <b>LEO</b>: Low Earth orbit (LEO)is an Earth-centred orbit with an altitude of 2,000 km (1,200 mi) or less (approximately one-third of the radius of Earth),\\[1] or with at least 11.25 periods per day (an orbital period of 128 minutes or less) and an eccentricity less than 0.25.\\[2] Most of the manmade objects in outer space are in LEO <a href='https://en.wikipedia.org/wiki/Low_Earth_orbit?utm_medium=Exinfluencer&utm_source=Exinfluencer&utm_content=000026UJ&utm_term=10006555&utm_id=NA-SkillsNetwork-Channel-SkillsNetworkCoursesIBMDS0321ENSkillsNetwork26802033-2022-01-01'>\\[1]</a>.\n",
    "​\n",
    "*   <b>VLEO</b>: Very Low Earth Orbits (VLEO) can be defined as the orbits with a mean altitude below 450 km. Operating in these orbits can provide a number of benefits to Earth observation spacecraft as the spacecraft operates closer to the observation<a href='https://www.researchgate.net/publication/271499606_Very_Low_Earth_Orbit_mission_concepts_for_Earth_Observation_Benefits_and_challenges?utm_medium=Exinfluencer&utm_source=Exinfluencer&utm_content=000026UJ&utm_term=10006555&utm_id=NA-SkillsNetwork-Channel-SkillsNetworkCoursesIBMDS0321ENSkillsNetwork26802033-2022-01-01'>\\[2]</a>.\n",
    "​\n",
    "*   <b>GTO</b> A geosynchronous orbit is a high Earth orbit that allows satellites to match Earth's rotation. Located at 22,236 miles (35,786 kilometers) above Earth's equator, this position is a valuable spot for monitoring weather, communications and surveillance. Because the satellite orbits at the same speed that the Earth is turning, the satellite seems to stay in place over a single longitude, though it may drift north to south,” NASA wrote on its Earth Observatory website <a  href=\"https://www.space.com/29222-geosynchronous-orbit.html?utm_medium=Exinfluencer&utm_source=Exinfluencer&utm_content=000026UJ&utm_term=10006555&utm_id=NA-SkillsNetwork-Channel-SkillsNetworkCoursesIBMDS0321ENSkillsNetwork26802033-2022-01-01\" >\\[3] </a>.\n",
    "​\n",
    "*   <b>SSO (or SO)</b>: It is a Sun-synchronous orbit  also called a heliosynchronous orbit is a nearly polar orbit around a planet, in which the satellite passes over any given point of the planet's surface at the same local mean solar time <a href=\"https://en.wikipedia.org/wiki/Sun-synchronous_orbit?utm_medium=Exinfluencer&utm_source=Exinfluencer&utm_content=000026UJ&utm_term=10006555&utm_id=NA-SkillsNetwork-Channel-SkillsNetworkCoursesIBMDS0321ENSkillsNetwork26802033-2022-01-01\">\\[4] <a>.\n",
    "​\n",
    "*   <b>ES-L1 </b>:At the Lagrange points the gravitational forces of the two large bodies cancel out in such a way that a small object placed in orbit there is in equilibrium relative to the center of mass of the large bodies. L1 is one such point between the sun and the earth <a href=\"https://en.wikipedia.org/wiki/Lagrange_point?utm_medium=Exinfluencer&utm_source=Exinfluencer&utm_content=000026UJ&utm_term=10006555&utm_id=NA-SkillsNetwork-Channel-SkillsNetworkCoursesIBMDS0321ENSkillsNetwork26802033-2022-01-01#L1_point\">\\[5]</a> .\n",
    "​\n",
    "*   <b>HEO</b> A highly elliptical orbit, is an elliptic orbit with high eccentricity, usually referring to one around Earth <a href=\"https://en.wikipedia.org/wiki/Highly_elliptical_orbit?utm_medium=Exinfluencer&utm_source=Exinfluencer&utm_content=000026UJ&utm_term=10006555&utm_id=NA-SkillsNetwork-Channel-SkillsNetworkCoursesIBMDS0321ENSkillsNetwork26802033-2022-01-01\">\\[6]</a>.\n",
    "​\n",
    "*   <b> ISS </b> A modular space station (habitable artificial satellite) in low Earth orbit. It is a multinational collaborative project between five participating space agencies: NASA (United States), Roscosmos (Russia), JAXA (Japan), ESA (Europe), and CSA (Canada)<a href=\"https://en.wikipedia.org/wiki/International_Space_Station?utm_medium=Exinfluencer&utm_source=Exinfluencer&utm_content=000026UJ&utm_term=10006555&utm_id=NA-SkillsNetwork-Channel-SkillsNetworkCoursesIBMDS0321ENSkillsNetwork26802033-2022-01-01\"> \\[7] </a>\n",
    "​\n",
    "*   <b> MEO </b> Geocentric orbits ranging in altitude from 2,000 km (1,200 mi) to just below geosynchronous orbit at 35,786 kilometers (22,236 mi). Also known as an intermediate circular orbit. These are \"most commonly at 20,200 kilometers (12,600 mi), or 20,650 kilometers (12,830 mi), with an orbital period of 12 hours <a href=\"https://en.wikipedia.org/wiki/List_of_orbits?utm_medium=Exinfluencer&utm_source=Exinfluencer&utm_content=000026UJ&utm_term=10006555&utm_id=NA-SkillsNetwork-Channel-SkillsNetworkCoursesIBMDS0321ENSkillsNetwork26802033-2022-01-01\"> \\[8] </a>\n",
    "​\n",
    "*   <b> HEO </b> Geocentric orbits above the altitude of geosynchronous orbit (35,786 km or 22,236 mi) <a href=\"https://en.wikipedia.org/wiki/List_of_orbits?utm_medium=Exinfluencer&utm_source=Exinfluencer&utm_content=000026UJ&utm_term=10006555&utm_id=NA-SkillsNetwork-Channel-SkillsNetworkCoursesIBMDS0321ENSkillsNetwork26802033-2022-01-01\"> \\[9] </a>\n",
    "​\n",
    "*   <b> GEO </b> It is a circular geosynchronous orbit 35,786 kilometres (22,236 miles) above Earth's equator and following the direction of Earth's rotation <a href=\"https://en.wikipedia.org/wiki/Geostationary_orbit?utm_medium=Exinfluencer&utm_source=Exinfluencer&utm_content=000026UJ&utm_term=10006555&utm_id=NA-SkillsNetwork-Channel-SkillsNetworkCoursesIBMDS0321ENSkillsNetwork26802033-2022-01-01\"> \\[10] </a>\n",
    "​\n",
    "*   <b> PO </b> It is one type of satellites in which a satellite passes above or nearly above both poles of the body being orbited (usually a planet such as the Earth <a href=\"https://en.wikipedia.org/wiki/Polar_orbit?utm_medium=Exinfluencer&utm_source=Exinfluencer&utm_content=000026UJ&utm_term=10006555&utm_id=NA-SkillsNetwork-Channel-SkillsNetworkCoursesIBMDS0321ENSkillsNetwork26802033-2022-01-01\"> \\[11] </a>\n",
    "​\n",
    "![](https://cf-courses-data.s3.us.cloud-object-storage.appdomain.cloud/IBMDeveloperSkillsNetwork-DS0701EN-SkillsNetwork/api/Images/Orbits.png)"
   ]
  },
  {
   "cell_type": "code",
   "execution_count": 64,
   "id": "42f17e58-b5d5-46f8-bbba-dfeb72e61e05",
   "metadata": {},
   "outputs": [
    {
     "data": {
      "text/plain": [
       "Series([], Name: count, dtype: int64)"
      ]
     },
     "execution_count": 64,
     "metadata": {},
     "output_type": "execute_result"
    }
   ],
   "source": [
    "df['Orbit'].value_counts()"
   ]
  },
  {
   "cell_type": "markdown",
   "id": "ff27e7e1-a32c-4695-8655-fbdc402935d8",
   "metadata": {},
   "source": [
    "### Find the landing success rate"
   ]
  },
  {
   "cell_type": "code",
   "execution_count": 65,
   "id": "2577590d-c706-4908-bc20-163fdd177784",
   "metadata": {},
   "outputs": [
    {
     "data": {
      "text/plain": [
       "nan"
      ]
     },
     "execution_count": 65,
     "metadata": {},
     "output_type": "execute_result"
    }
   ],
   "source": [
    "df[\"Class\"].mean()"
   ]
  },
  {
   "cell_type": "markdown",
   "id": "7c52e8c3-5638-4e6f-b899-a8912756fbf6",
   "metadata": {},
   "source": [
    "## Visualization"
   ]
  },
  {
   "cell_type": "markdown",
   "id": "18ffe6e7-0fa6-45a1-bd2e-c6443ade441c",
   "metadata": {},
   "source": [
    "### Import visualization library"
   ]
  },
  {
   "cell_type": "code",
   "execution_count": 66,
   "id": "b520bbf6-6605-4fff-b02e-9efe1fa6dc04",
   "metadata": {},
   "outputs": [],
   "source": [
    "import matplotlib.pyplot as plt\n",
    "import seaborn as sns"
   ]
  },
  {
   "cell_type": "markdown",
   "id": "3e3744bd-0f22-4dfc-9e5f-30672b07e310",
   "metadata": {},
   "source": [
    "### Visualize the relationship between Payload and Launch Site\n",
    "Firstly, we want to observe if there is any relationship between launch sites and their payload mass."
   ]
  },
  {
   "cell_type": "code",
   "execution_count": 68,
   "id": "365227db-41db-4ff6-bf71-ceb8d0f19ff1",
   "metadata": {},
   "outputs": [
    {
     "name": "stdout",
     "output_type": "stream",
     "text": [
      "Error: No data left after removing NaN values.\n"
     ]
    }
   ],
   "source": [
    "import seaborn as sns\n",
    "import matplotlib.pyplot as plt\n",
    "\n",
    "# Check if the required columns exist\n",
    "required_columns = ['LaunchSite', 'PayloadMass', 'Class']\n",
    "if not all(col in df.columns for col in required_columns):\n",
    "    print(\"Error: One or more required columns are missing from the DataFrame.\")\n",
    "    missing_columns = [col for col in required_columns if col not in df.columns]\n",
    "    print(f\"Missing columns: {missing_columns}\")\n",
    "else:\n",
    "    # Remove any rows with NaN values in the required columns\n",
    "    df_clean = df.dropna(subset=required_columns)\n",
    "\n",
    "    if df_clean.empty:\n",
    "        print(\"Error: No data left after removing NaN values.\")\n",
    "    else:\n",
    "        # Create the plot\n",
    "        plt.figure(figsize=(12, 6))  # Adjust the figure size as needed\n",
    "        sns.catplot(y=\"LaunchSite\", x=\"PayloadMass\", hue=\"Class\", data=df_clean, aspect=5, kind=\"box\")\n",
    "        plt.xlabel(\"Payload Mass (kg)\", fontsize=20)\n",
    "        plt.ylabel(\"Launch Site\", fontsize=20)\n",
    "        plt.title(\"Payload Mass Distribution by Launch Site and Class\", fontsize=22)\n",
    "        plt.tight_layout()\n",
    "        plt.show()"
   ]
  },
  {
   "cell_type": "code",
   "execution_count": 71,
   "id": "0a697706-67a1-4fc7-904e-c3ef6e350914",
   "metadata": {},
   "outputs": [
    {
     "name": "stdout",
     "output_type": "stream",
     "text": [
      "(0, 18)\n",
      "[]\n",
      "count    0.0\n",
      "mean     NaN\n",
      "std      NaN\n",
      "min      NaN\n",
      "25%      NaN\n",
      "50%      NaN\n",
      "75%      NaN\n",
      "max      NaN\n",
      "Name: PayloadMass, dtype: float64\n",
      "[]\n"
     ]
    }
   ],
   "source": [
    "print(df.shape)\n",
    "print(df['LaunchSite'].unique())\n",
    "print(df['PayloadMass'].describe())\n",
    "print(df['Class'].unique())"
   ]
  },
  {
   "cell_type": "code",
   "execution_count": 72,
   "id": "5bc3dc30-1f17-4e47-8ed2-6f9cd7ac570a",
   "metadata": {},
   "outputs": [
    {
     "name": "stdout",
     "output_type": "stream",
     "text": [
      "LaunchSite     0\n",
      "PayloadMass    0\n",
      "Class          0\n",
      "dtype: int64\n"
     ]
    }
   ],
   "source": [
    "print(df[['LaunchSite', 'PayloadMass', 'Class']].isnull().sum())"
   ]
  },
  {
   "cell_type": "code",
   "execution_count": 73,
   "id": "65007efb-c454-485c-a009-9f11c99d8303",
   "metadata": {},
   "outputs": [],
   "source": [
    "df_clean = df.dropna(subset=['LaunchSite', 'PayloadMass', 'Class'])"
   ]
  },
  {
   "cell_type": "code",
   "execution_count": 86,
   "id": "df66a788-7143-4640-82db-61afcbb01fb3",
   "metadata": {},
   "outputs": [
    {
     "data": {
      "image/png": "[encoded data removed]",
      "text/plain": [
       "<Figure size 640x480 with 1 Axes>"
      ]
     },
     "metadata": {},
     "output_type": "display_data"
    }
   ],
   "source": [
    "sns.barplot(y=\"Class\", x=\"Orbit\", data=df[['Orbit', 'Class']].groupby(by='Orbit').mean().reset_index())\n",
    "plt.xlabel(\"Orbit\",fontsize=20)\n",
    "plt.ylabel(\"Success Rate\",fontsize=20)\n",
    "plt.show()"
   ]
  },
  {
   "cell_type": "markdown",
   "id": "6fc8369d-cf1c-4f7d-8326-74d264aca524",
   "metadata": {},
   "source": [
    "#### With heavy payloads the successful landing or positive landing rate are more for Polar, LEO and ISS.\n",
    "\n",
    "However for GTO we cannot distinguish this well as both positive landing rate and negative landing(unsuccessful mission) are both there here.\n"
   ]
  },
  {
   "cell_type": "markdown",
   "id": "622cf47a-7934-4020-bad6-8bd69f09f7b4",
   "metadata": {},
   "source": [
    "### Visualize the launch success yearly trend\n",
    "Lastly, we want to visually check if there are any launch success yearly trend using line plot."
   ]
  },
  {
   "cell_type": "code",
   "execution_count": 80,
   "id": "23aa04ef-d043-496a-ae17-8bdbaf4c1484",
   "metadata": {},
   "outputs": [],
   "source": [
    "# A function to Extract years from the date \n",
    "def Extract_year(date):\n",
    "    for i in df[\"Date\"]:\n",
    "        year.append(int(i.strftime(\"%Y\")))\n",
    "    return year"
   ]
  },
  {
   "cell_type": "code",
   "execution_count": 81,
   "id": "be241da4-32bc-4ad0-839e-a789ff65fcf6",
   "metadata": {},
   "outputs": [
    {
     "data": {
      "image/png": "[encoded data removed]",
      "text/plain": [
       "<Figure size 640x480 with 1 Axes>"
      ]
     },
     "metadata": {},
     "output_type": "display_data"
    }
   ],
   "source": [
    "year =[]\n",
    "df['Year'] = Extract_year(df)\n",
    "sns.regplot(y=\"Class\", x=\"Year\", data=df[['Year', 'Class']].groupby('Year').mean().reset_index())\n",
    "plt.xlabel(\"Year\",fontsize=20)\n",
    "plt.ylabel(\"Succsee Rate\",fontsize=20)\n",
    "plt.show()"
   ]
  },
  {
   "cell_type": "code",
   "execution_count": 83,
   "id": "66d98d21-2c74-400c-a52c-d5549fb2cad5",
   "metadata": {},
   "outputs": [],
   "source": [
    "#As we can see above, the success rate tend to improve as the year pass."
   ]
  },
  {
   "cell_type": "markdown",
   "id": "eac4c508-2d0e-4935-b059-ee157e01fcdd",
   "metadata": {},
   "source": [
    "# Interactive visual analytics"
   ]
  },
  {
   "cell_type": "markdown",
   "id": "21576081-cefb-4fef-a005-e87bf2558dd6",
   "metadata": {},
   "source": [
    "## Folium Map"
   ]
  },
  {
   "cell_type": "code",
   "execution_count": 90,
   "id": "b7582904-1f41-40bf-9017-7dbece620cc7",
   "metadata": {},
   "outputs": [],
   "source": [
    "import folium\n",
    "# Import folium MarkerCluster plugin\n",
    "from folium.plugins import MarkerCluster\n",
    "# Import folium DivIcon plugin\n",
    "from folium.features import DivIcon"
   ]
  },
  {
   "cell_type": "markdown",
   "id": "cc026749-2772-41a8-98eb-558fd9e3e607",
   "metadata": {},
   "source": [
    "## Data wrangling"
   ]
  },
  {
   "cell_type": "code",
   "execution_count": 91,
   "id": "7a8a8398-8565-44c3-ba27-f6fc0aaa353d",
   "metadata": {},
   "outputs": [
    {
     "data": {
      "text/html": [
       "<div>\n",
       "<style scoped>\n",
       "    .dataframe tbody tr th:only-of-type {\n",
       "        vertical-align: middle;\n",
       "    }\n",
       "\n",
       "    .dataframe tbody tr th {\n",
       "        vertical-align: top;\n",
       "    }\n",
       "\n",
       "    .dataframe thead th {\n",
       "        text-align: right;\n",
       "    }\n",
       "</style>\n",
       "<table border=\"1\" class=\"dataframe\">\n",
       "  <thead>\n",
       "    <tr style=\"text-align: right;\">\n",
       "      <th></th>\n",
       "      <th>LaunchSite</th>\n",
       "      <th>Latitude</th>\n",
       "      <th>Longitude</th>\n",
       "    </tr>\n",
       "  </thead>\n",
       "  <tbody>\n",
       "  </tbody>\n",
       "</table>\n",
       "</div>"
      ],
      "text/plain": [
       "Empty DataFrame\n",
       "Columns: [LaunchSite, Latitude, Longitude]\n",
       "Index: []"
      ]
     },
     "execution_count": 91,
     "metadata": {},
     "output_type": "execute_result"
    }
   ],
   "source": [
    "# Select relevant sub-columns: `Launch Site`, `Lat(Latitude)`, `Long(Longitude)`, `class`\n",
    "df_folium = df[['LaunchSite', 'Latitude', 'Longitude', 'Class']]\n",
    "df_launch_sites = df_folium.groupby(['LaunchSite'], as_index=False).first()\n",
    "df_launch_sites = df_launch_sites[['LaunchSite', 'Latitude', 'Longitude']]\n",
    "df_launch_sites"
   ]
  },
  {
   "cell_type": "markdown",
   "id": "2afdd1e2-aba2-4f64-b293-62621cf201ad",
   "metadata": {},
   "source": [
    "##### Above coordinates are just plain numbers that can not give any intuitive insights about where are those launch sites.\n",
    "\n",
    "Hence, let's visualize those locations by pinning them on a map."
   ]
  },
  {
   "cell_type": "markdown",
   "id": "808399b0-d9ec-4346-b12d-361e88c0eb5e",
   "metadata": {},
   "source": [
    "### Mark all launch sites on a map"
   ]
  },
  {
   "cell_type": "code",
   "execution_count": 92,
   "id": "5ef43801-4937-42e2-87d1-51c0bc961955",
   "metadata": {},
   "outputs": [],
   "source": [
    "# Initial the map\n",
    "site_map = folium.Map(location = [29.559684888503615, -95.0830971930759],\n",
    "                      zoom_start = 4,\n",
    "                      max_bounds=True)"
   ]
  },
  {
   "cell_type": "code",
   "execution_count": 94,
   "id": "bddd6aaf-c6c6-4fd2-a78c-beee23e63ba2",
   "metadata": {},
   "outputs": [
    {
     "data": {
      "text/html": [
       "<div style=\"width:100%;\"><div style=\"position:relative;width:100%;height:0;padding-bottom:60%;\"><span style=\"color:#565656\">Make this Notebook Trusted to load map: File -> Trust Notebook</span><iframe srcdoc=\"&lt;!DOCTYPE html&gt;\n",
       "&lt;html&gt;\n",
       "&lt;head&gt;\n",
       "    \n",
       "    &lt;meta http-equiv=&quot;content-type&quot; content=&quot;text/html; charset=UTF-8&quot; /&gt;\n",
       "    \n",
       "        &lt;script&gt;\n",
       "            L_NO_TOUCH = false;\n",
       "            L_DISABLE_3D = false;\n",
       "        &lt;/script&gt;\n",
       "    \n",
       "    &lt;style&gt;html, body {width: 100%;height: 100%;margin: 0;padding: 0;}&lt;/style&gt;\n",
       "    &lt;style&gt;#map {position:absolute;top:0;bottom:0;right:0;left:0;}&lt;/style&gt;\n",
       "    &lt;script src=&quot;https://cdn.jsdelivr.net/npm/leaflet@1.9.3/dist/leaflet.js&quot;&gt;&lt;/script&gt;\n",
       "    &lt;script src=&quot;https://code.jquery.com/jquery-3.7.1.min.js&quot;&gt;&lt;/script&gt;\n",
       "    &lt;script src=&quot;https://cdn.jsdelivr.net/npm/bootstrap@5.2.2/dist/js/bootstrap.bundle.min.js&quot;&gt;&lt;/script&gt;\n",
       "    &lt;script src=&quot;https://cdnjs.cloudflare.com/ajax/libs/Leaflet.awesome-markers/2.0.2/leaflet.awesome-markers.js&quot;&gt;&lt;/script&gt;\n",
       "    &lt;link rel=&quot;stylesheet&quot; href=&quot;https://cdn.jsdelivr.net/npm/leaflet@1.9.3/dist/leaflet.css&quot;/&gt;\n",
       "    &lt;link rel=&quot;stylesheet&quot; href=&quot;https://cdn.jsdelivr.net/npm/bootstrap@5.2.2/dist/css/bootstrap.min.css&quot;/&gt;\n",
       "    &lt;link rel=&quot;stylesheet&quot; href=&quot;https://netdna.bootstrapcdn.com/bootstrap/3.0.0/css/bootstrap-glyphicons.css&quot;/&gt;\n",
       "    &lt;link rel=&quot;stylesheet&quot; href=&quot;https://cdn.jsdelivr.net/npm/@fortawesome/fontawesome-free@6.2.0/css/all.min.css&quot;/&gt;\n",
       "    &lt;link rel=&quot;stylesheet&quot; href=&quot;https://cdnjs.cloudflare.com/ajax/libs/Leaflet.awesome-markers/2.0.2/leaflet.awesome-markers.css&quot;/&gt;\n",
       "    &lt;link rel=&quot;stylesheet&quot; href=&quot;https://cdn.jsdelivr.net/gh/python-visualization/folium/folium/templates/leaflet.awesome.rotate.min.css&quot;/&gt;\n",
       "    \n",
       "            &lt;meta name=&quot;viewport&quot; content=&quot;width=device-width,\n",
       "                initial-scale=1.0, maximum-scale=1.0, user-scalable=no&quot; /&gt;\n",
       "            &lt;style&gt;\n",
       "                #map_0c5db651bd51de986de566b8394d6a3a {\n",
       "                    position: relative;\n",
       "                    width: 100.0%;\n",
       "                    height: 100.0%;\n",
       "                    left: 0.0%;\n",
       "                    top: 0.0%;\n",
       "                }\n",
       "                .leaflet-container { font-size: 1rem; }\n",
       "            &lt;/style&gt;\n",
       "        \n",
       "&lt;/head&gt;\n",
       "&lt;body&gt;\n",
       "    \n",
       "    \n",
       "            &lt;div class=&quot;folium-map&quot; id=&quot;map_0c5db651bd51de986de566b8394d6a3a&quot; &gt;&lt;/div&gt;\n",
       "        \n",
       "&lt;/body&gt;\n",
       "&lt;script&gt;\n",
       "    \n",
       "    \n",
       "            var map_0c5db651bd51de986de566b8394d6a3a = L.map(\n",
       "                &quot;map_0c5db651bd51de986de566b8394d6a3a&quot;,\n",
       "                {\n",
       "                    center: [29.559684888503615, -95.0830971930759],\n",
       "                    crs: L.CRS.EPSG3857,\n",
       "                    maxBounds: [[-90, -180], [90, 180]],\n",
       "                    zoom: 4,\n",
       "                    zoomControl: true,\n",
       "                    preferCanvas: false,\n",
       "                }\n",
       "            );\n",
       "\n",
       "            \n",
       "\n",
       "        \n",
       "    \n",
       "            var tile_layer_68d6cc957ee56c9c837bc8eb15e7a12f = L.tileLayer(\n",
       "                &quot;https://tile.openstreetmap.org/{z}/{x}/{y}.png&quot;,\n",
       "                {&quot;attribution&quot;: &quot;\\u0026copy; \\u003ca href=\\&quot;https://www.openstreetmap.org/copyright\\&quot;\\u003eOpenStreetMap\\u003c/a\\u003e contributors&quot;, &quot;detectRetina&quot;: false, &quot;maxNativeZoom&quot;: 19, &quot;maxZoom&quot;: 19, &quot;minZoom&quot;: 0, &quot;noWrap&quot;: false, &quot;opacity&quot;: 1, &quot;subdomains&quot;: &quot;abc&quot;, &quot;tms&quot;: false}\n",
       "            );\n",
       "        \n",
       "    \n",
       "            tile_layer_68d6cc957ee56c9c837bc8eb15e7a12f.addTo(map_0c5db651bd51de986de566b8394d6a3a);\n",
       "        \n",
       "&lt;/script&gt;\n",
       "&lt;/html&gt;\" style=\"position:absolute;width:100%;height:100%;left:0;top:0;border:none !important;\" allowfullscreen webkitallowfullscreen mozallowfullscreen></iframe></div></div>"
      ],
      "text/plain": [
       "<folium.folium.Map at 0x1dd91992330>"
      ]
     },
     "execution_count": 94,
     "metadata": {},
     "output_type": "execute_result"
    }
   ],
   "source": [
    "# For each launch site, add a Circle object based on its coordinate (Lat, Long) values. In addition, add Launch site name as a popup label\n",
    "for i, LaunchSite in enumerate(df_launch_sites['LaunchSite']):\n",
    "    \n",
    "    # Create a orange circle at each luanch station coordinate with a popup label showing its name\n",
    "    \n",
    "    circle = folium.Circle(df_launch_sites.loc[i, 'Latitude':'Longitude'].to_list(), radius=100, color='#d35400', fill=True).add_child(folium.Popup(LaunchSite))\n",
    "    site_map.add_child(circle)\n",
    "    # Create a orange circle at each luanch station coordinate with a icon showing its name\n",
    "    marker = folium.map.Marker(\n",
    "        df_launch_sites.loc[i, 'Latitude':'Longitude'].to_list(),\n",
    "        # Create an icon as a text label\n",
    "        icon=DivIcon(\n",
    "            icon_size=(20,20),\n",
    "            icon_anchor=(0,0),\n",
    "            html='<div style=\"font-size: 12; color:#d35400;\"><b>%s</b></div>' % LaunchSite,\n",
    "            )\n",
    "        )\n",
    "    site_map.add_child(marker) \n",
    "site_map\n"
   ]
  },
  {
   "cell_type": "markdown",
   "id": "2f947d13-febf-456e-9132-73f80a60d927",
   "metadata": {},
   "source": [
    " #### After exploring the map by zoom-in/out the marked areas, we can see that\n",
    "1-All launch sites in proximity to the Equator line,\r",
    "2-\n",
    "All launch sites in very close proximity to the coast\n"
   ]
  },
  {
   "cell_type": "markdown",
   "id": "73c7db96-47f0-433b-87d3-023250481172",
   "metadata": {},
   "source": [
    "### Mark the success/failed launches for each site on the map¶\n",
    "Next, let's try to enhance the map by adding the launch outcomes for each site, and see which sites have high success rates. Since a launch only happens in one of the three launch sites, which means many launch records will have the exact same coordinate. Marker clusters can be a good way to simplify a map containing many markers having the same coordinate."
   ]
  },
  {
   "cell_type": "code",
   "execution_count": 95,
   "id": "e474748a-73d5-4d17-aed2-b37a6c5f4538",
   "metadata": {},
   "outputs": [],
   "source": [
    "# Function to assign color to launch outcome\n",
    "def assign_marker_color(launch_outcome):\n",
    "    if launch_outcome == 1:\n",
    "        return 'green'\n",
    "    else:\n",
    "        return 'red'\n",
    "\n",
    "# Assign marker color for each row in dataframe\n",
    "df_folium['marker_color'] = df_folium['Class'].apply(assign_marker_color)"
   ]
  },
  {
   "cell_type": "code",
   "execution_count": 96,
   "id": "061a3f81-104d-4afe-b683-083ed842c25f",
   "metadata": {},
   "outputs": [],
   "source": [
    "# Create marker cluster object\n",
    "marker_cluster = MarkerCluster()\n",
    "\n",
    "# Add marker_cluster to current site_map\n",
    "site_map.add_child(marker_cluster)\n",
    "\n",
    "# create a Marker object with its coordinate \n",
    "# and customize the Marker's icon property to indicate if this launch was successed or failed\n",
    "for index, row in df_folium.iterrows():\n",
    "    # Create and add a Marker cluster to the site map\n",
    "    marker = folium.map.Marker([row['Latitude'], row['Longitude']]\n",
    "        ,\n",
    "        # Create an icon as a text label\n",
    "        icon=folium.Icon(color='white', icon_color=row['marker_color'])\n",
    "                              )\n",
    "    marker_cluster.add_child(marker)"
   ]
  },
  {
   "cell_type": "code",
   "execution_count": 97,
   "id": "f7df6d48-e35a-4f43-9538-3e4150e2f376",
   "metadata": {},
   "outputs": [
    {
     "data": {
      "text/html": [
       "<div style=\"width:100%;\"><div style=\"position:relative;width:100%;height:0;padding-bottom:60%;\"><span style=\"color:#565656\">Make this Notebook Trusted to load map: File -> Trust Notebook</span><iframe srcdoc=\"&lt;!DOCTYPE html&gt;\n",
       "&lt;html&gt;\n",
       "&lt;head&gt;\n",
       "    \n",
       "    &lt;meta http-equiv=&quot;content-type&quot; content=&quot;text/html; charset=UTF-8&quot; /&gt;\n",
       "    \n",
       "        &lt;script&gt;\n",
       "            L_NO_TOUCH = false;\n",
       "            L_DISABLE_3D = false;\n",
       "        &lt;/script&gt;\n",
       "    \n",
       "    &lt;style&gt;html, body {width: 100%;height: 100%;margin: 0;padding: 0;}&lt;/style&gt;\n",
       "    &lt;style&gt;#map {position:absolute;top:0;bottom:0;right:0;left:0;}&lt;/style&gt;\n",
       "    &lt;script src=&quot;https://cdn.jsdelivr.net/npm/leaflet@1.9.3/dist/leaflet.js&quot;&gt;&lt;/script&gt;\n",
       "    &lt;script src=&quot;https://code.jquery.com/jquery-3.7.1.min.js&quot;&gt;&lt;/script&gt;\n",
       "    &lt;script src=&quot;https://cdn.jsdelivr.net/npm/bootstrap@5.2.2/dist/js/bootstrap.bundle.min.js&quot;&gt;&lt;/script&gt;\n",
       "    &lt;script src=&quot;https://cdnjs.cloudflare.com/ajax/libs/Leaflet.awesome-markers/2.0.2/leaflet.awesome-markers.js&quot;&gt;&lt;/script&gt;\n",
       "    &lt;link rel=&quot;stylesheet&quot; href=&quot;https://cdn.jsdelivr.net/npm/leaflet@1.9.3/dist/leaflet.css&quot;/&gt;\n",
       "    &lt;link rel=&quot;stylesheet&quot; href=&quot;https://cdn.jsdelivr.net/npm/bootstrap@5.2.2/dist/css/bootstrap.min.css&quot;/&gt;\n",
       "    &lt;link rel=&quot;stylesheet&quot; href=&quot;https://netdna.bootstrapcdn.com/bootstrap/3.0.0/css/bootstrap-glyphicons.css&quot;/&gt;\n",
       "    &lt;link rel=&quot;stylesheet&quot; href=&quot;https://cdn.jsdelivr.net/npm/@fortawesome/fontawesome-free@6.2.0/css/all.min.css&quot;/&gt;\n",
       "    &lt;link rel=&quot;stylesheet&quot; href=&quot;https://cdnjs.cloudflare.com/ajax/libs/Leaflet.awesome-markers/2.0.2/leaflet.awesome-markers.css&quot;/&gt;\n",
       "    &lt;link rel=&quot;stylesheet&quot; href=&quot;https://cdn.jsdelivr.net/gh/python-visualization/folium/folium/templates/leaflet.awesome.rotate.min.css&quot;/&gt;\n",
       "    \n",
       "            &lt;meta name=&quot;viewport&quot; content=&quot;width=device-width,\n",
       "                initial-scale=1.0, maximum-scale=1.0, user-scalable=no&quot; /&gt;\n",
       "            &lt;style&gt;\n",
       "                #map_0c5db651bd51de986de566b8394d6a3a {\n",
       "                    position: relative;\n",
       "                    width: 100.0%;\n",
       "                    height: 100.0%;\n",
       "                    left: 0.0%;\n",
       "                    top: 0.0%;\n",
       "                }\n",
       "                .leaflet-container { font-size: 1rem; }\n",
       "            &lt;/style&gt;\n",
       "        \n",
       "    &lt;script src=&quot;https://cdnjs.cloudflare.com/ajax/libs/leaflet.markercluster/1.1.0/leaflet.markercluster.js&quot;&gt;&lt;/script&gt;\n",
       "    &lt;link rel=&quot;stylesheet&quot; href=&quot;https://cdnjs.cloudflare.com/ajax/libs/leaflet.markercluster/1.1.0/MarkerCluster.css&quot;/&gt;\n",
       "    &lt;link rel=&quot;stylesheet&quot; href=&quot;https://cdnjs.cloudflare.com/ajax/libs/leaflet.markercluster/1.1.0/MarkerCluster.Default.css&quot;/&gt;\n",
       "&lt;/head&gt;\n",
       "&lt;body&gt;\n",
       "    \n",
       "    \n",
       "            &lt;div class=&quot;folium-map&quot; id=&quot;map_0c5db651bd51de986de566b8394d6a3a&quot; &gt;&lt;/div&gt;\n",
       "        \n",
       "&lt;/body&gt;\n",
       "&lt;script&gt;\n",
       "    \n",
       "    \n",
       "            var map_0c5db651bd51de986de566b8394d6a3a = L.map(\n",
       "                &quot;map_0c5db651bd51de986de566b8394d6a3a&quot;,\n",
       "                {\n",
       "                    center: [29.559684888503615, -95.0830971930759],\n",
       "                    crs: L.CRS.EPSG3857,\n",
       "                    maxBounds: [[-90, -180], [90, 180]],\n",
       "                    zoom: 4,\n",
       "                    zoomControl: true,\n",
       "                    preferCanvas: false,\n",
       "                }\n",
       "            );\n",
       "\n",
       "            \n",
       "\n",
       "        \n",
       "    \n",
       "            var tile_layer_68d6cc957ee56c9c837bc8eb15e7a12f = L.tileLayer(\n",
       "                &quot;https://tile.openstreetmap.org/{z}/{x}/{y}.png&quot;,\n",
       "                {&quot;attribution&quot;: &quot;\\u0026copy; \\u003ca href=\\&quot;https://www.openstreetmap.org/copyright\\&quot;\\u003eOpenStreetMap\\u003c/a\\u003e contributors&quot;, &quot;detectRetina&quot;: false, &quot;maxNativeZoom&quot;: 19, &quot;maxZoom&quot;: 19, &quot;minZoom&quot;: 0, &quot;noWrap&quot;: false, &quot;opacity&quot;: 1, &quot;subdomains&quot;: &quot;abc&quot;, &quot;tms&quot;: false}\n",
       "            );\n",
       "        \n",
       "    \n",
       "            tile_layer_68d6cc957ee56c9c837bc8eb15e7a12f.addTo(map_0c5db651bd51de986de566b8394d6a3a);\n",
       "        \n",
       "    \n",
       "            tile_layer_68d6cc957ee56c9c837bc8eb15e7a12f.addTo(map_0c5db651bd51de986de566b8394d6a3a);\n",
       "        \n",
       "    \n",
       "            var marker_cluster_0e9bb42cf9e27fa227f21a47685d2b26 = L.markerClusterGroup(\n",
       "                {}\n",
       "            );\n",
       "        \n",
       "    \n",
       "            marker_cluster_0e9bb42cf9e27fa227f21a47685d2b26.addTo(map_0c5db651bd51de986de566b8394d6a3a);\n",
       "        \n",
       "    \n",
       "            map_0c5db651bd51de986de566b8394d6a3a.fitBounds(\n",
       "                [[28.560857, -80.578366], [28.562857, -80.576366]],\n",
       "                {}\n",
       "            );\n",
       "        \n",
       "&lt;/script&gt;\n",
       "&lt;/html&gt;\" style=\"position:absolute;width:100%;height:100%;left:0;top:0;border:none !important;\" allowfullscreen webkitallowfullscreen mozallowfullscreen></iframe></div></div>"
      ],
      "text/plain": [
       "<folium.folium.Map at 0x1dd91992330>"
      ]
     },
     "execution_count": 97,
     "metadata": {},
     "output_type": "execute_result"
    }
   ],
   "source": [
    "# Set the location and zoom position to Launch Site CCSFS SLC 40\n",
    "# You can click the marker cluster (Yellow) to find all launch results\n",
    "location_CCSFS_SLC_40 = [28.561857, -80.577366]\n",
    "bound = [0.001, 0.001]\n",
    "sw = list(np.subtract(location_CCSFS_SLC_40, bound))\n",
    "ne = list(np.add(location_CCSFS_SLC_40, bound))\n",
    "site_map.fit_bounds([sw, ne])\n",
    "site_map"
   ]
  },
  {
   "cell_type": "markdown",
   "id": "73212e8f-ef80-4bba-b8ed-c84bf3b873eb",
   "metadata": {},
   "source": [
    "##### From the color-labeled markers in marker clusters, you should be able to easily identify which launch sites have relatively high success rates"
   ]
  },
  {
   "cell_type": "markdown",
   "id": "2a038789-6d96-4032-9161-1efb8b628a03",
   "metadata": {},
   "source": [
    "### Plotly Dashboard"
   ]
  },
  {
   "cell_type": "markdown",
   "id": "52b26f2a-cb15-471a-8048-91c3bc4e8734",
   "metadata": {},
   "source": [
    "#### Since Dash app require a local host, which kaggle does not support, please visit my github for the full dashboard code.\n",
    "\n",
    "Here is the example of my Plotly Dash dashboard. This dashboard has 4 components including dropdown menu for selecting launch sites, pie chart to visualize success rate in each launch site, slider to select payload range, and scatter plot plot to visualize relationship launch site, payload, and booster version."
   ]
  },
  {
   "cell_type": "code",
   "execution_count": 103,
   "id": "8a6681d5-b5e8-41ab-b037-95f200f19621",
   "metadata": {},
   "outputs": [
    {
     "data": {
      "image/png": "[encoded data removed]",
      "text/plain": [
       "<Figure size 3000x1800 with 1 Axes>"
      ]
     },
     "metadata": {},
     "output_type": "display_data"
    }
   ],
   "source": [
    "import matplotlib.pyplot as plt\n",
    "import requests\n",
    "from PIL import Image\n",
    "from io import BytesIO\n",
    "\n",
    "# URL of the image\n",
    "url = \"https://github.com/supat-roong/IBM-Data-Science-Capstone-Project/blob/main/Dashboard%20Example.png?raw=true\"\n",
    "\n",
    "# Fetch the image\n",
    "response = requests.get(url)\n",
    "img = Image.open(BytesIO(response.content))\n",
    "\n",
    "# Create a figure with a larger size\n",
    "plt.figure(figsize=(30, 18))  # Adjust the width and height to make it super big\n",
    "plt.imshow(img)\n",
    "plt.axis('off')  # Turn off axis\n",
    "plt.show()"
   ]
  },
  {
   "cell_type": "markdown",
   "id": "57815687-384d-4e91-98d8-9f73b0c013ab",
   "metadata": {},
   "source": [
    "## Predict analysis"
   ]
  },
  {
   "cell_type": "markdown",
   "id": "ff4f25da-831e-4081-bef0-9407f29f0fd7",
   "metadata": {},
   "source": [
    "#### We will determine if the first stage rocket will land using predictive analysis by classification models."
   ]
  },
  {
   "cell_type": "markdown",
   "id": "26d3f837-1dfa-440d-84c8-15ffb2a0f36d",
   "metadata": {},
   "source": [
    "## Import Libraries and Define Auxiliary Functions"
   ]
  },
  {
   "cell_type": "code",
   "execution_count": 104,
   "id": "fb2a90fd-7f3e-4bbf-882f-00f327b66f14",
   "metadata": {},
   "outputs": [],
   "source": [
    "from sklearn import preprocessing\n",
    "from sklearn.model_selection import train_test_split\n",
    "from sklearn.model_selection import GridSearchCV\n",
    "from sklearn.linear_model import LogisticRegression\n",
    "from sklearn.svm import SVC\n",
    "from sklearn.tree import DecisionTreeClassifier\n",
    "from sklearn.neighbors import KNeighborsClassifier"
   ]
  },
  {
   "cell_type": "code",
   "execution_count": 105,
   "id": "51587554-a0e6-4085-be93-1fe360efc248",
   "metadata": {},
   "outputs": [],
   "source": [
    "# This function is to plot the confusion matrix\n",
    "def plot_confusion_matrix(y,y_predict):\n",
    "    \"this function plots the confusion matrix\"\n",
    "    from sklearn.metrics import confusion_matrix\n",
    "\n",
    "    cm = confusion_matrix(y, y_predict)\n",
    "    ax= plt.subplot()\n",
    "    sns.heatmap(cm, annot=True, ax = ax); #annot=True to annotate cells\n",
    "    ax.set_xlabel('Predicted labels')\n",
    "    ax.set_ylabel('True labels')\n",
    "    ax.set_title('Confusion Matrix'); \n",
    "    ax.xaxis.set_ticklabels(['did not land', 'land']); ax.yaxis.set_ticklabels(['did not land', 'landed'])"
   ]
  },
  {
   "cell_type": "markdown",
   "id": "dcfc9cd6-f5af-4859-a3cd-99981f8af54c",
   "metadata": {},
   "source": [
    "## Features Selection\n",
    "From the exploratory data analysis, we obtain some preliminary insights about how each important variable would affect the success rate, we will select the features that will be used in success prediction."
   ]
  },
  {
   "cell_type": "code",
   "execution_count": 106,
   "id": "5227e613-2f07-4062-91dc-981f67914e75",
   "metadata": {},
   "outputs": [
    {
     "data": {
      "text/html": [
       "<div>\n",
       "<style scoped>\n",
       "    .dataframe tbody tr th:only-of-type {\n",
       "        vertical-align: middle;\n",
       "    }\n",
       "\n",
       "    .dataframe tbody tr th {\n",
       "        vertical-align: top;\n",
       "    }\n",
       "\n",
       "    .dataframe thead th {\n",
       "        text-align: right;\n",
       "    }\n",
       "</style>\n",
       "<table border=\"1\" class=\"dataframe\">\n",
       "  <thead>\n",
       "    <tr style=\"text-align: right;\">\n",
       "      <th></th>\n",
       "      <th>FlightNumber</th>\n",
       "      <th>PayloadMass</th>\n",
       "      <th>Orbit</th>\n",
       "      <th>LaunchSite</th>\n",
       "      <th>Flights</th>\n",
       "      <th>GridFins</th>\n",
       "      <th>Reused</th>\n",
       "      <th>Legs</th>\n",
       "      <th>LandingPad</th>\n",
       "      <th>Block</th>\n",
       "      <th>ReusedCount</th>\n",
       "      <th>Serial</th>\n",
       "    </tr>\n",
       "  </thead>\n",
       "  <tbody>\n",
       "  </tbody>\n",
       "</table>\n",
       "</div>"
      ],
      "text/plain": [
       "Empty DataFrame\n",
       "Columns: [FlightNumber, PayloadMass, Orbit, LaunchSite, Flights, GridFins, Reused, Legs, LandingPad, Block, ReusedCount, Serial]\n",
       "Index: []"
      ]
     },
     "execution_count": 106,
     "metadata": {},
     "output_type": "execute_result"
    }
   ],
   "source": [
    "features = df[['FlightNumber', 'PayloadMass', 'Orbit', 'LaunchSite', 'Flights', 'GridFins', 'Reused', 'Legs', 'LandingPad', 'Block', 'ReusedCount', 'Serial']]\n",
    "features.head()"
   ]
  },
  {
   "cell_type": "markdown",
   "id": "62210df3-08a8-4844-8398-40c2a73f79d1",
   "metadata": {},
   "source": [
    "### Create dummy variables to categorical columns\n",
    "Use the function get_dummies and features dataframe to apply OneHotEncoder to the column Orbits, LaunchSite, LandingPad, and Serial. Assign the value to the variable features_one_hot, display the results using the method head."
   ]
  },
  {
   "cell_type": "code",
   "execution_count": 107,
   "id": "033973b8-d8a7-4093-82af-8fe59eac7c13",
   "metadata": {},
   "outputs": [
    {
     "data": {
      "text/html": [
       "<div>\n",
       "<style scoped>\n",
       "    .dataframe tbody tr th:only-of-type {\n",
       "        vertical-align: middle;\n",
       "    }\n",
       "\n",
       "    .dataframe tbody tr th {\n",
       "        vertical-align: top;\n",
       "    }\n",
       "\n",
       "    .dataframe thead th {\n",
       "        text-align: right;\n",
       "    }\n",
       "</style>\n",
       "<table border=\"1\" class=\"dataframe\">\n",
       "  <thead>\n",
       "    <tr style=\"text-align: right;\">\n",
       "      <th></th>\n",
       "      <th>Orbit</th>\n",
       "      <th>LaunchSite</th>\n",
       "      <th>LandingPad</th>\n",
       "      <th>Serial</th>\n",
       "    </tr>\n",
       "  </thead>\n",
       "  <tbody>\n",
       "  </tbody>\n",
       "</table>\n",
       "</div>"
      ],
      "text/plain": [
       "Empty DataFrame\n",
       "Columns: [Orbit, LaunchSite, LandingPad, Serial]\n",
       "Index: []"
      ]
     },
     "execution_count": 107,
     "metadata": {},
     "output_type": "execute_result"
    }
   ],
   "source": [
    "features_one_hot = pd.get_dummies(features[['Orbit', 'LaunchSite', 'LandingPad', 'Serial']])\n",
    "features_one_hot.head()"
   ]
  },
  {
   "cell_type": "markdown",
   "id": "d332a890-62e2-401a-a048-2d3df008e988",
   "metadata": {},
   "source": [
    "## Merge dummy variable to the feature"
   ]
  },
  {
   "cell_type": "code",
   "execution_count": 108,
   "id": "8755de60-359c-4d81-bc98-a5f122dcbed2",
   "metadata": {},
   "outputs": [
    {
     "data": {
      "text/html": [
       "<div>\n",
       "<style scoped>\n",
       "    .dataframe tbody tr th:only-of-type {\n",
       "        vertical-align: middle;\n",
       "    }\n",
       "\n",
       "    .dataframe tbody tr th {\n",
       "        vertical-align: top;\n",
       "    }\n",
       "\n",
       "    .dataframe thead th {\n",
       "        text-align: right;\n",
       "    }\n",
       "</style>\n",
       "<table border=\"1\" class=\"dataframe\">\n",
       "  <thead>\n",
       "    <tr style=\"text-align: right;\">\n",
       "      <th></th>\n",
       "      <th>FlightNumber</th>\n",
       "      <th>PayloadMass</th>\n",
       "      <th>Orbit_x</th>\n",
       "      <th>LaunchSite_x</th>\n",
       "      <th>Flights</th>\n",
       "      <th>GridFins</th>\n",
       "      <th>Reused</th>\n",
       "      <th>Legs</th>\n",
       "      <th>LandingPad_x</th>\n",
       "      <th>Block</th>\n",
       "      <th>ReusedCount</th>\n",
       "      <th>Serial_x</th>\n",
       "      <th>Orbit_y</th>\n",
       "      <th>LaunchSite_y</th>\n",
       "      <th>LandingPad_y</th>\n",
       "      <th>Serial_y</th>\n",
       "    </tr>\n",
       "  </thead>\n",
       "  <tbody>\n",
       "  </tbody>\n",
       "</table>\n",
       "</div>"
      ],
      "text/plain": [
       "Empty DataFrame\n",
       "Columns: [FlightNumber, PayloadMass, Orbit_x, LaunchSite_x, Flights, GridFins, Reused, Legs, LandingPad_x, Block, ReusedCount, Serial_x, Orbit_y, LaunchSite_y, LandingPad_y, Serial_y]\n",
       "Index: []"
      ]
     },
     "execution_count": 108,
     "metadata": {},
     "output_type": "execute_result"
    }
   ],
   "source": [
    "X = features.merge(features_one_hot, left_index=True, right_index=True)\n",
    "X.head()"
   ]
  },
  {
   "cell_type": "markdown",
   "id": "90861f91-a5b2-4993-b23d-f629fb2c2bc2",
   "metadata": {},
   "source": [
    "## Cast all numeric columns to float64"
   ]
  },
  {
   "cell_type": "code",
   "execution_count": 110,
   "id": "50775661-c264-4ee2-9e60-625bfd51722e",
   "metadata": {},
   "outputs": [
    {
     "data": {
      "text/html": [
       "<div>\n",
       "<style scoped>\n",
       "    .dataframe tbody tr th:only-of-type {\n",
       "        vertical-align: middle;\n",
       "    }\n",
       "\n",
       "    .dataframe tbody tr th {\n",
       "        vertical-align: top;\n",
       "    }\n",
       "\n",
       "    .dataframe thead th {\n",
       "        text-align: right;\n",
       "    }\n",
       "</style>\n",
       "<table border=\"1\" class=\"dataframe\">\n",
       "  <thead>\n",
       "    <tr style=\"text-align: right;\">\n",
       "      <th></th>\n",
       "      <th>FlightNumber</th>\n",
       "      <th>PayloadMass</th>\n",
       "      <th>Orbit_x</th>\n",
       "      <th>LaunchSite_x</th>\n",
       "      <th>Flights</th>\n",
       "      <th>GridFins</th>\n",
       "      <th>Reused</th>\n",
       "      <th>Legs</th>\n",
       "      <th>LandingPad_x</th>\n",
       "      <th>Block</th>\n",
       "      <th>ReusedCount</th>\n",
       "      <th>Serial_x</th>\n",
       "      <th>Orbit_y</th>\n",
       "      <th>LaunchSite_y</th>\n",
       "      <th>LandingPad_y</th>\n",
       "      <th>Serial_y</th>\n",
       "    </tr>\n",
       "  </thead>\n",
       "  <tbody>\n",
       "  </tbody>\n",
       "</table>\n",
       "</div>"
      ],
      "text/plain": [
       "Empty DataFrame\n",
       "Columns: [FlightNumber, PayloadMass, Orbit_x, LaunchSite_x, Flights, GridFins, Reused, Legs, LandingPad_x, Block, ReusedCount, Serial_x, Orbit_y, LaunchSite_y, LandingPad_y, Serial_y]\n",
       "Index: []"
      ]
     },
     "execution_count": 110,
     "metadata": {},
     "output_type": "execute_result"
    }
   ],
   "source": [
    "X.astype('float64')"
   ]
  },
  {
   "cell_type": "markdown",
   "id": "76fae4f2-747d-4124-bf99-fc59497f8f26",
   "metadata": {},
   "source": [
    "### Select target variable\n",
    "The target variable is Class column from the df dataframe"
   ]
  },
  {
   "cell_type": "code",
   "execution_count": 111,
   "id": "b3a5b69a-e869-460b-b3b8-d452fb494b10",
   "metadata": {},
   "outputs": [],
   "source": [
    "Y = df['Class'].to_numpy()"
   ]
  },
  {
   "cell_type": "markdown",
   "id": "b2cdc71d-d1bb-46da-bb24-8f4dc04d466e",
   "metadata": {},
   "source": [
    "## Preprocessing dataset\n",
    "Standardize the data in X"
   ]
  },
  {
   "cell_type": "code",
   "execution_count": 117,
   "id": "e894eac6-367f-47e2-b041-56a1b43ef2ad",
   "metadata": {},
   "outputs": [
    {
     "name": "stdout",
     "output_type": "stream",
     "text": [
      "Actual numerical features: ['PayloadMass', 'Flights', 'Block', 'ReusedCount']\n"
     ]
    }
   ],
   "source": [
    "# List of all potential numerical features\n",
    "all_potential_features = ['PayloadMass', 'Flights', 'Block', 'ReusedCount', 'Orbit_Earth', 'Orbit_GEO', 'Orbit_GTO', 'Orbit_HEO', 'Orbit_ISS', 'Orbit_VLEO', 'Orbit_PO', 'Orbit_SO', 'Orbit_MEO', 'Orbit_SSO', 'Orbit_ES-L1', 'Orbit_SO']\n",
    "\n",
    "# Filter to keep only the features that exist in the DataFrame\n",
    "numerical_features = [col for col in all_potential_features if col in df.columns]\n",
    "\n",
    "print(\"Actual numerical features:\", numerical_features)"
   ]
  },
  {
   "cell_type": "markdown",
   "id": "86c0b695-9ed6-4584-abc6-fedd8a185933",
   "metadata": {},
   "source": [
    "### split the data X and Y into training and test data\n",
    "For the consistency of this report, I set random_state=2"
   ]
  },
  {
   "cell_type": "code",
   "execution_count": 138,
   "id": "422655ad-0921-4561-b271-51055eb4dbfd",
   "metadata": {},
   "outputs": [
    {
     "name": "stdout",
     "output_type": "stream",
     "text": [
      "Shape of DataFrame after loading: (187, 27)\n",
      "First few rows of DataFrame:\n",
      "                                                                        fairings  \\\n",
      "0  {'reused': False, 'recovery_attempt': False, 'recovered': False, 'ships': []}   \n",
      "1  {'reused': False, 'recovery_attempt': False, 'recovered': False, 'ships': []}   \n",
      "2  {'reused': False, 'recovery_attempt': False, 'recovered': False, 'ships': []}   \n",
      "3  {'reused': False, 'recovery_attempt': False, 'recovered': False, 'ships': []}   \n",
      "4  {'reused': False, 'recovery_attempt': False, 'recovered': False, 'ships': []}   \n",
      "\n",
      "                                                                                                                                                                                                                                                                                                                                                                                                                                                                                                                                                                                                   links  \\\n",
      "0                                                                                  {'patch': {'small': 'https://images2.imgbox.com/94/f2/NN6Ph45r_o.png', 'large': 'https://images2.imgbox.com/5b/02/QcxHUb5V_o.png'}, 'reddit': {'campaign': None, 'launch': None, 'media': None, 'recovery': None}, 'flickr': {'small': [], 'original': []}, 'presskit': None, 'webcast': 'https://www.youtube.com/watch?v=0a_00nJ_Y88', 'youtube_id': '0a_00nJ_Y88', 'article': 'https://www.space.com/2196-spacex-inaugural-falcon-1-rocket-lost-launch.html', 'wikipedia': 'https://en.wikipedia.org/wiki/DemoSat'}   \n",
      "1                                                                                      {'patch': {'small': 'https://images2.imgbox.com/f9/4a/ZboXReNb_o.png', 'large': 'https://images2.imgbox.com/80/a2/bkWotCIS_o.png'}, 'reddit': {'campaign': None, 'launch': None, 'media': None, 'recovery': None}, 'flickr': {'small': [], 'original': []}, 'presskit': None, 'webcast': 'https://www.youtube.com/watch?v=Lk4zQ2wP-Nc', 'youtube_id': 'Lk4zQ2wP-Nc', 'article': 'https://www.space.com/3590-spacex-falcon-1-rocket-fails-reach-orbit.html', 'wikipedia': 'https://en.wikipedia.org/wiki/DemoSat'}   \n",
      "2                                                                       {'patch': {'small': 'https://images2.imgbox.com/6c/cb/na1tzhHs_o.png', 'large': 'https://images2.imgbox.com/4a/80/k1oAkY0k_o.png'}, 'reddit': {'campaign': None, 'launch': None, 'media': None, 'recovery': None}, 'flickr': {'small': [], 'original': []}, 'presskit': None, 'webcast': 'https://www.youtube.com/watch?v=v0w9p3U8860', 'youtube_id': 'v0w9p3U8860', 'article': 'http://www.spacex.com/news/2013/02/11/falcon-1-flight-3-mission-summary', 'wikipedia': 'https://en.wikipedia.org/wiki/Trailblazer_(satellite)'}   \n",
      "3                                                                                                                           {'patch': {'small': 'https://images2.imgbox.com/95/39/sRqN7rsv_o.png', 'large': 'https://images2.imgbox.com/a3/99/qswRYzE8_o.png'}, 'reddit': {'campaign': None, 'launch': None, 'media': None, 'recovery': None}, 'flickr': {'small': [], 'original': []}, 'presskit': None, 'webcast': 'https://www.youtube.com/watch?v=dLQ2tZEH6G0', 'youtube_id': 'dLQ2tZEH6G0', 'article': 'https://en.wikipedia.org/wiki/Ratsat', 'wikipedia': 'https://en.wikipedia.org/wiki/Ratsat'}   \n",
      "4  {'patch': {'small': 'https://images2.imgbox.com/ab/5a/Pequxd5d_o.png', 'large': 'https://images2.imgbox.com/92/e4/7Cf6MLY0_o.png'}, 'reddit': {'campaign': None, 'launch': None, 'media': None, 'recovery': None}, 'flickr': {'small': [], 'original': []}, 'presskit': 'http://www.spacex.com/press/2012/12/19/spacexs-falcon-1-successfully-delivers-razaksat-satellite-orbit', 'webcast': 'https://www.youtube.com/watch?v=yTaIDooc8Og', 'youtube_id': 'yTaIDooc8Og', 'article': 'http://www.spacex.com/news/2013/02/12/falcon-1-flight-5', 'wikipedia': 'https://en.wikipedia.org/wiki/RazakSAT'}   \n",
      "\n",
      "       static_fire_date_utc  static_fire_date_unix    net  window  \\\n",
      "0  2006-03-17T00:00:00.000Z           1.142554e+09  False     0.0   \n",
      "1                      None                    NaN  False     0.0   \n",
      "2                      None                    NaN  False     0.0   \n",
      "3  2008-09-20T00:00:00.000Z           1.221869e+09  False     0.0   \n",
      "4                      None                    NaN  False     0.0   \n",
      "\n",
      "                     rocket success  \\\n",
      "0  5e9d0d95eda69955f709d1eb   False   \n",
      "1  5e9d0d95eda69955f709d1eb   False   \n",
      "2  5e9d0d95eda69955f709d1eb   False   \n",
      "3  5e9d0d95eda69955f709d1eb    True   \n",
      "4  5e9d0d95eda69955f709d1eb    True   \n",
      "\n",
      "                                                                                                            failures  \\\n",
      "0                                                [{'time': 33, 'altitude': None, 'reason': 'merlin engine failure'}]   \n",
      "1            [{'time': 301, 'altitude': 289, 'reason': 'harmonic oscillation leading to premature engine shutdown'}]   \n",
      "2  [{'time': 140, 'altitude': 35, 'reason': 'residual stage-1 thrust led to collision between stage 1 and stage 2'}]   \n",
      "3                                                                                                                 []   \n",
      "4                                                                                                                 []   \n",
      "\n",
      "                                                                                                                                                                                details  \\\n",
      "0                                                                                                                                      Engine failure at 33 seconds and loss of vehicle   \n",
      "1  Successful first stage burn and transition to second stage, maximum altitude 289 km, Premature engine shutdown at T+7 min 30 s, Failed to reach orbit, Failed to recover first stage   \n",
      "2                                                                                                                  Residual stage 1 thrust led to collision between stage 1 and stage 2   \n",
      "3                        Ratsat was carried to orbit on the first successful orbital launch of any privately funded and developed, liquid-propelled carrier rocket, the SpaceX Falcon 1   \n",
      "4                                                                                                                                                                                  None   \n",
      "\n",
      "  crew ships capsules                                              payloads  \\\n",
      "0   []    []       []                            [5eb0e4b5b6c3bb0006eeb1e1]   \n",
      "1   []    []       []                            [5eb0e4b6b6c3bb0006eeb1e2]   \n",
      "2   []    []       []  [5eb0e4b6b6c3bb0006eeb1e3, 5eb0e4b6b6c3bb0006eeb1e4]   \n",
      "3   []    []       []                            [5eb0e4b7b6c3bb0006eeb1e5]   \n",
      "4   []    []       []                            [5eb0e4b7b6c3bb0006eeb1e6]   \n",
      "\n",
      "                  launchpad  flight_number         name  \\\n",
      "0  5e9e4502f5090995de566f86              1    FalconSat   \n",
      "1  5e9e4502f5090995de566f86              2      DemoSat   \n",
      "2  5e9e4502f5090995de566f86              3  Trailblazer   \n",
      "3  5e9e4502f5090995de566f86              4       RatSat   \n",
      "4  5e9e4502f5090995de566f86              5     RazakSat   \n",
      "\n",
      "                   date_utc   date_unix                 date_local  \\\n",
      "0  2006-03-24T22:30:00.000Z  1143239400  2006-03-25T10:30:00+12:00   \n",
      "1  2007-03-21T01:10:00.000Z  1174439400  2007-03-21T13:10:00+12:00   \n",
      "2  2008-08-03T03:34:00.000Z  1217734440  2008-08-03T15:34:00+12:00   \n",
      "3  2008-09-28T23:15:00.000Z  1222643700  2008-09-28T11:15:00+12:00   \n",
      "4  2009-07-13T03:35:00.000Z  1247456100  2009-07-13T15:35:00+12:00   \n",
      "\n",
      "  date_precision  upcoming  \\\n",
      "0           hour     False   \n",
      "1           hour     False   \n",
      "2           hour     False   \n",
      "3           hour     False   \n",
      "4           hour     False   \n",
      "\n",
      "                                                                                                                                                                                              cores  \\\n",
      "0  [{'core': '5e9e289df35918033d3b2623', 'flight': 1, 'gridfins': False, 'legs': False, 'reused': False, 'landing_attempt': False, 'landing_success': None, 'landing_type': None, 'landpad': None}]   \n",
      "1  [{'core': '5e9e289ef35918416a3b2624', 'flight': 1, 'gridfins': False, 'legs': False, 'reused': False, 'landing_attempt': False, 'landing_success': None, 'landing_type': None, 'landpad': None}]   \n",
      "2  [{'core': '5e9e289ef3591814873b2625', 'flight': 1, 'gridfins': False, 'legs': False, 'reused': False, 'landing_attempt': False, 'landing_success': None, 'landing_type': None, 'landpad': None}]   \n",
      "3  [{'core': '5e9e289ef3591855dc3b2626', 'flight': 1, 'gridfins': False, 'legs': False, 'reused': False, 'landing_attempt': False, 'landing_success': None, 'landing_type': None, 'landpad': None}]   \n",
      "4  [{'core': '5e9e289ef359184f103b2627', 'flight': 1, 'gridfins': False, 'legs': False, 'reused': False, 'landing_attempt': False, 'landing_success': None, 'landing_type': None, 'landpad': None}]   \n",
      "\n",
      "   auto_update    tbd launch_library_id                        id  \n",
      "0         True  False              None  5eb87cd9ffd86e000604b32a  \n",
      "1         True  False              None  5eb87cdaffd86e000604b32b  \n",
      "2         True  False              None  5eb87cdbffd86e000604b32c  \n",
      "3         True  False              None  5eb87cdbffd86e000604b32d  \n",
      "4         True  False              None  5eb87cdcffd86e000604b32e  \n"
     ]
    }
   ],
   "source": [
    "import pandas as pd\n",
    "import requests\n",
    "\n",
    "# URL of the SpaceX API\n",
    "spacex_url = \"https://api.spacexdata.com/v4/launches/past\"\n",
    "\n",
    "# Fetch the data from the API\n",
    "response = requests.get(spacex_url)\n",
    "\n",
    "# Check if the request was successful\n",
    "if response.status_code == 200:\n",
    "    # Convert the JSON response to a DataFrame\n",
    "    data = response.json()\n",
    "    df = pd.DataFrame(data)\n",
    "\n",
    "    # Check the shape and first few rows of the DataFrame\n",
    "    print(\"Shape of DataFrame after loading:\", df.shape)\n",
    "    print(\"First few rows of DataFrame:\")\n",
    "    print(df.head())\n",
    "else:\n",
    "    print(f\"Failed to fetch data: {response.status_code}\")"
   ]
  },
  {
   "cell_type": "code",
   "execution_count": 141,
   "id": "04fe8d34-2bab-43f8-b344-f51174fea254",
   "metadata": {},
   "outputs": [
    {
     "name": "stdout",
     "output_type": "stream",
     "text": [
      "Columns in DataFrame: Index(['fairings', 'links', 'static_fire_date_utc', 'static_fire_date_unix',\n",
      "       'net', 'window', 'rocket', 'success', 'failures', 'details', 'crew',\n",
      "       'ships', 'capsules', 'payloads', 'launchpad', 'flight_number', 'name',\n",
      "       'date_utc', 'date_unix', 'date_local', 'date_precision', 'upcoming',\n",
      "       'cores', 'auto_update', 'tbd', 'launch_library_id', 'id'],\n",
      "      dtype='object')\n"
     ]
    }
   ],
   "source": [
    "print(\"Columns in DataFrame:\", df.columns)"
   ]
  },
  {
   "cell_type": "code",
   "execution_count": 143,
   "id": "0a4c3527-57b4-433f-96e5-897d5efe48f2",
   "metadata": {},
   "outputs": [
    {
     "name": "stdout",
     "output_type": "stream",
     "text": [
      "Shape of DataFrame after loading: (187, 27)\n",
      "First few rows of DataFrame:\n",
      "                                                                        fairings  \\\n",
      "0  {'reused': False, 'recovery_attempt': False, 'recovered': False, 'ships': []}   \n",
      "1  {'reused': False, 'recovery_attempt': False, 'recovered': False, 'ships': []}   \n",
      "2  {'reused': False, 'recovery_attempt': False, 'recovered': False, 'ships': []}   \n",
      "3  {'reused': False, 'recovery_attempt': False, 'recovered': False, 'ships': []}   \n",
      "4  {'reused': False, 'recovery_attempt': False, 'recovered': False, 'ships': []}   \n",
      "\n",
      "                                                                                                                                                                                                                                                                                                                                                                                                                                                                                                                                                                                                   links  \\\n",
      "0                                                                                  {'patch': {'small': 'https://images2.imgbox.com/94/f2/NN6Ph45r_o.png', 'large': 'https://images2.imgbox.com/5b/02/QcxHUb5V_o.png'}, 'reddit': {'campaign': None, 'launch': None, 'media': None, 'recovery': None}, 'flickr': {'small': [], 'original': []}, 'presskit': None, 'webcast': 'https://www.youtube.com/watch?v=0a_00nJ_Y88', 'youtube_id': '0a_00nJ_Y88', 'article': 'https://www.space.com/2196-spacex-inaugural-falcon-1-rocket-lost-launch.html', 'wikipedia': 'https://en.wikipedia.org/wiki/DemoSat'}   \n",
      "1                                                                                      {'patch': {'small': 'https://images2.imgbox.com/f9/4a/ZboXReNb_o.png', 'large': 'https://images2.imgbox.com/80/a2/bkWotCIS_o.png'}, 'reddit': {'campaign': None, 'launch': None, 'media': None, 'recovery': None}, 'flickr': {'small': [], 'original': []}, 'presskit': None, 'webcast': 'https://www.youtube.com/watch?v=Lk4zQ2wP-Nc', 'youtube_id': 'Lk4zQ2wP-Nc', 'article': 'https://www.space.com/3590-spacex-falcon-1-rocket-fails-reach-orbit.html', 'wikipedia': 'https://en.wikipedia.org/wiki/DemoSat'}   \n",
      "2                                                                       {'patch': {'small': 'https://images2.imgbox.com/6c/cb/na1tzhHs_o.png', 'large': 'https://images2.imgbox.com/4a/80/k1oAkY0k_o.png'}, 'reddit': {'campaign': None, 'launch': None, 'media': None, 'recovery': None}, 'flickr': {'small': [], 'original': []}, 'presskit': None, 'webcast': 'https://www.youtube.com/watch?v=v0w9p3U8860', 'youtube_id': 'v0w9p3U8860', 'article': 'http://www.spacex.com/news/2013/02/11/falcon-1-flight-3-mission-summary', 'wikipedia': 'https://en.wikipedia.org/wiki/Trailblazer_(satellite)'}   \n",
      "3                                                                                                                           {'patch': {'small': 'https://images2.imgbox.com/95/39/sRqN7rsv_o.png', 'large': 'https://images2.imgbox.com/a3/99/qswRYzE8_o.png'}, 'reddit': {'campaign': None, 'launch': None, 'media': None, 'recovery': None}, 'flickr': {'small': [], 'original': []}, 'presskit': None, 'webcast': 'https://www.youtube.com/watch?v=dLQ2tZEH6G0', 'youtube_id': 'dLQ2tZEH6G0', 'article': 'https://en.wikipedia.org/wiki/Ratsat', 'wikipedia': 'https://en.wikipedia.org/wiki/Ratsat'}   \n",
      "4  {'patch': {'small': 'https://images2.imgbox.com/ab/5a/Pequxd5d_o.png', 'large': 'https://images2.imgbox.com/92/e4/7Cf6MLY0_o.png'}, 'reddit': {'campaign': None, 'launch': None, 'media': None, 'recovery': None}, 'flickr': {'small': [], 'original': []}, 'presskit': 'http://www.spacex.com/press/2012/12/19/spacexs-falcon-1-successfully-delivers-razaksat-satellite-orbit', 'webcast': 'https://www.youtube.com/watch?v=yTaIDooc8Og', 'youtube_id': 'yTaIDooc8Og', 'article': 'http://www.spacex.com/news/2013/02/12/falcon-1-flight-5', 'wikipedia': 'https://en.wikipedia.org/wiki/RazakSAT'}   \n",
      "\n",
      "       static_fire_date_utc  static_fire_date_unix    net  window  \\\n",
      "0  2006-03-17T00:00:00.000Z           1.142554e+09  False     0.0   \n",
      "1                      None                    NaN  False     0.0   \n",
      "2                      None                    NaN  False     0.0   \n",
      "3  2008-09-20T00:00:00.000Z           1.221869e+09  False     0.0   \n",
      "4                      None                    NaN  False     0.0   \n",
      "\n",
      "                     rocket success  \\\n",
      "0  5e9d0d95eda69955f709d1eb   False   \n",
      "1  5e9d0d95eda69955f709d1eb   False   \n",
      "2  5e9d0d95eda69955f709d1eb   False   \n",
      "3  5e9d0d95eda69955f709d1eb    True   \n",
      "4  5e9d0d95eda69955f709d1eb    True   \n",
      "\n",
      "                                                                                                            failures  \\\n",
      "0                                                [{'time': 33, 'altitude': None, 'reason': 'merlin engine failure'}]   \n",
      "1            [{'time': 301, 'altitude': 289, 'reason': 'harmonic oscillation leading to premature engine shutdown'}]   \n",
      "2  [{'time': 140, 'altitude': 35, 'reason': 'residual stage-1 thrust led to collision between stage 1 and stage 2'}]   \n",
      "3                                                                                                                 []   \n",
      "4                                                                                                                 []   \n",
      "\n",
      "                                                                                                                                                                                details  \\\n",
      "0                                                                                                                                      Engine failure at 33 seconds and loss of vehicle   \n",
      "1  Successful first stage burn and transition to second stage, maximum altitude 289 km, Premature engine shutdown at T+7 min 30 s, Failed to reach orbit, Failed to recover first stage   \n",
      "2                                                                                                                  Residual stage 1 thrust led to collision between stage 1 and stage 2   \n",
      "3                        Ratsat was carried to orbit on the first successful orbital launch of any privately funded and developed, liquid-propelled carrier rocket, the SpaceX Falcon 1   \n",
      "4                                                                                                                                                                                  None   \n",
      "\n",
      "  crew ships capsules                                              payloads  \\\n",
      "0   []    []       []                            [5eb0e4b5b6c3bb0006eeb1e1]   \n",
      "1   []    []       []                            [5eb0e4b6b6c3bb0006eeb1e2]   \n",
      "2   []    []       []  [5eb0e4b6b6c3bb0006eeb1e3, 5eb0e4b6b6c3bb0006eeb1e4]   \n",
      "3   []    []       []                            [5eb0e4b7b6c3bb0006eeb1e5]   \n",
      "4   []    []       []                            [5eb0e4b7b6c3bb0006eeb1e6]   \n",
      "\n",
      "                  launchpad  flight_number         name  \\\n",
      "0  5e9e4502f5090995de566f86              1    FalconSat   \n",
      "1  5e9e4502f5090995de566f86              2      DemoSat   \n",
      "2  5e9e4502f5090995de566f86              3  Trailblazer   \n",
      "3  5e9e4502f5090995de566f86              4       RatSat   \n",
      "4  5e9e4502f5090995de566f86              5     RazakSat   \n",
      "\n",
      "                   date_utc   date_unix                 date_local  \\\n",
      "0  2006-03-24T22:30:00.000Z  1143239400  2006-03-25T10:30:00+12:00   \n",
      "1  2007-03-21T01:10:00.000Z  1174439400  2007-03-21T13:10:00+12:00   \n",
      "2  2008-08-03T03:34:00.000Z  1217734440  2008-08-03T15:34:00+12:00   \n",
      "3  2008-09-28T23:15:00.000Z  1222643700  2008-09-28T11:15:00+12:00   \n",
      "4  2009-07-13T03:35:00.000Z  1247456100  2009-07-13T15:35:00+12:00   \n",
      "\n",
      "  date_precision  upcoming  \\\n",
      "0           hour     False   \n",
      "1           hour     False   \n",
      "2           hour     False   \n",
      "3           hour     False   \n",
      "4           hour     False   \n",
      "\n",
      "                                                                                                                                                                                              cores  \\\n",
      "0  [{'core': '5e9e289df35918033d3b2623', 'flight': 1, 'gridfins': False, 'legs': False, 'reused': False, 'landing_attempt': False, 'landing_success': None, 'landing_type': None, 'landpad': None}]   \n",
      "1  [{'core': '5e9e289ef35918416a3b2624', 'flight': 1, 'gridfins': False, 'legs': False, 'reused': False, 'landing_attempt': False, 'landing_success': None, 'landing_type': None, 'landpad': None}]   \n",
      "2  [{'core': '5e9e289ef3591814873b2625', 'flight': 1, 'gridfins': False, 'legs': False, 'reused': False, 'landing_attempt': False, 'landing_success': None, 'landing_type': None, 'landpad': None}]   \n",
      "3  [{'core': '5e9e289ef3591855dc3b2626', 'flight': 1, 'gridfins': False, 'legs': False, 'reused': False, 'landing_attempt': False, 'landing_success': None, 'landing_type': None, 'landpad': None}]   \n",
      "4  [{'core': '5e9e289ef359184f103b2627', 'flight': 1, 'gridfins': False, 'legs': False, 'reused': False, 'landing_attempt': False, 'landing_success': None, 'landing_type': None, 'landpad': None}]   \n",
      "\n",
      "   auto_update    tbd launch_library_id                        id  \n",
      "0         True  False              None  5eb87cd9ffd86e000604b32a  \n",
      "1         True  False              None  5eb87cdaffd86e000604b32b  \n",
      "2         True  False              None  5eb87cdbffd86e000604b32c  \n",
      "3         True  False              None  5eb87cdbffd86e000604b32d  \n",
      "4         True  False              None  5eb87cdcffd86e000604b32e  \n",
      "Columns in DataFrame: Index(['fairings', 'links', 'static_fire_date_utc', 'static_fire_date_unix',\n",
      "       'net', 'window', 'rocket', 'success', 'failures', 'details', 'crew',\n",
      "       'ships', 'capsules', 'payloads', 'launchpad', 'flight_number', 'name',\n",
      "       'date_utc', 'date_unix', 'date_local', 'date_precision', 'upcoming',\n",
      "       'cores', 'auto_update', 'tbd', 'launch_library_id', 'id'],\n",
      "      dtype='object')\n",
      "Count of None values in 'success': 1\n",
      "Shape of X_train: (148, 2)\n",
      "Shape of X_test: (38, 2)\n",
      "Shape of Y_train: (148,)\n",
      "Shape of Y_test: (38,)\n"
     ]
    }
   ],
   "source": [
    "import pandas as pd\n",
    "import requests\n",
    "from sklearn.model_selection import train_test_split\n",
    "\n",
    "# Step 1: Fetch the data from the SpaceX API\n",
    "spacex_url = \"https://api.spacexdata.com/v4/launches/past\"\n",
    "response = requests.get(spacex_url)\n",
    "\n",
    "# Check if the request was successful\n",
    "if response.status_code == 200:\n",
    "    # Convert the JSON response to a DataFrame\n",
    "    data = response.json()\n",
    "    df = pd.DataFrame(data)\n",
    "\n",
    "    # Step 2: Display the shape and first few rows of the DataFrame\n",
    "    print(\"Shape of DataFrame after loading:\", df.shape)\n",
    "    print(\"First few rows of DataFrame:\")\n",
    "    print(df.head())\n",
    "\n",
    "    # Print the columns to check for the correct names\n",
    "    print(\"Columns in DataFrame:\", df.columns)\n",
    "else:\n",
    "    print(f\"Failed to fetch data: {response.status_code}\")\n",
    "\n",
    "# Step 3: Extract payload mass\n",
    "# Initialize a new column for payload mass\n",
    "df['payload_mass'] = df['payloads'].apply(lambda x: sum([p['mass'] for p in x if 'mass' in p]) if isinstance(x, list) else 0)\n",
    "\n",
    "# Check for None values in the 'success' column\n",
    "print(\"Count of None values in 'success':\", df['success'].isnull().sum())\n",
    "\n",
    "# Drop rows with None values in the 'success' column\n",
    "df = df.dropna(subset=['success'])\n",
    "\n",
    "# Ensure the target variable is an integer\n",
    "df['success'] = df['success'].astype(int)\n",
    "\n",
    "# Prepare features (X) and target (Y)\n",
    "X = df[['payload_mass', 'flight_number']]  # Use the extracted payload mass and flight number\n",
    "Y = df['success']  # Target variable\n",
    "\n",
    "# Step 4: Split the data into training and testing sets\n",
    "X_train, X_test, Y_train, Y_test = train_test_split(X, Y, test_size=0.2, random_state=42)\n",
    "\n",
    "# Display the shapes of the resulting datasets\n",
    "print(\"Shape of X_train:\", X_train.shape)\n",
    "print(\"Shape of X_test:\", X_test.shape)\n",
    "print(\"Shape of Y_train:\", Y_train.shape)\n",
    "print(\"Shape of Y_test:\", Y_test.shape)"
   ]
  },
  {
   "cell_type": "code",
   "execution_count": 144,
   "id": "eae2d33d-cfd7-4c38-8f5b-2e97766d0516",
   "metadata": {},
   "outputs": [],
   "source": [
    "X_train, X_test, Y_train, Y_test = train_test_split(X, Y, test_size=0.2, random_state=2)"
   ]
  },
  {
   "cell_type": "code",
   "execution_count": 145,
   "id": "7535f7fa-e03c-461b-bf99-bfb29cee3a06",
   "metadata": {},
   "outputs": [
    {
     "data": {
      "text/plain": [
       "(38,)"
      ]
     },
     "execution_count": 145,
     "metadata": {},
     "output_type": "execute_result"
    }
   ],
   "source": [
    "Y_test.shape"
   ]
  },
  {
   "cell_type": "markdown",
   "id": "d63e6fcd-3ab1-47e9-a6df-a0690b042a89",
   "metadata": {},
   "source": [
    "## Model training\n",
    "### Logistic Regression\n",
    "Create a logistic regression object then create a GridSearchCV object logreg_cv with cv = 10. Fit the object to find the best parameters from the dictionary parameters."
   ]
  },
  {
   "cell_type": "code",
   "execution_count": 148,
   "id": "7c772f5a-13e8-4cb5-a0ce-81a193c92759",
   "metadata": {},
   "outputs": [],
   "source": [
    "logreg_cv = GridSearchCV(lr, parameters, cv=5)  # Change cv from 10 to 5"
   ]
  },
  {
   "cell_type": "code",
   "execution_count": 149,
   "id": "c37f4c82-2474-43aa-8422-e6f6202451ec",
   "metadata": {},
   "outputs": [],
   "source": [
    "from sklearn.model_selection import StratifiedKFold\n",
    "\n",
    "stratified_cv = StratifiedKFold(n_splits=10)\n",
    "logreg_cv = GridSearchCV(lr, parameters, cv=stratified_cv)"
   ]
  },
  {
   "cell_type": "code",
   "execution_count": 150,
   "id": "c0ee0116-62ea-4c41-af05-dac278978d29",
   "metadata": {},
   "outputs": [
    {
     "name": "stdout",
     "output_type": "stream",
     "text": [
      "Class distribution in Y:\n",
      "success\n",
      "1    181\n",
      "0      5\n",
      "Name: count, dtype: int64\n"
     ]
    }
   ],
   "source": [
    "print(\"Class distribution in Y:\")\n",
    "print(Y.value_counts())"
   ]
  },
  {
   "cell_type": "code",
   "execution_count": 155,
   "id": "17b95563-efdb-4e4d-9d2e-6ed9658ad030",
   "metadata": {},
   "outputs": [],
   "source": [
    "from sklearn.neighbors import KNeighborsClassifier\n",
    "\n",
    "# Create KNN model with a valid number of neighbors\n",
    "knn = KNeighborsClassifier(n_neighbors=5)  # Change this to a valid number"
   ]
  },
  {
   "cell_type": "code",
   "execution_count": 156,
   "id": "a5576ac2-54b2-4a41-b86b-1b3e235d24c2",
   "metadata": {},
   "outputs": [
    {
     "name": "stdout",
     "output_type": "stream",
     "text": [
      "              precision    recall  f1-score   support\n",
      "\n",
      "           1       1.00      1.00      1.00        38\n",
      "\n",
      "    accuracy                           1.00        38\n",
      "   macro avg       1.00      1.00      1.00        38\n",
      "weighted avg       1.00      1.00      1.00        38\n",
      "\n"
     ]
    }
   ],
   "source": [
    "from sklearn.neighbors import KNeighborsClassifier\n",
    "from sklearn.model_selection import train_test_split\n",
    "from sklearn.metrics import classification_report\n",
    "\n",
    "# Assuming X and Y are already defined and split into training and testing sets\n",
    "# Example: X_train, X_test, Y_train, Y_test\n",
    "\n",
    "# Create KNN model with a valid number of neighbors\n",
    "n_neighbors = min(5, len(Y_train))  # Set n_neighbors to the minimum of 5 or the number of training samples\n",
    "knn = KNeighborsClassifier(n_neighbors=n_neighbors)\n",
    "\n",
    "# Fit the model\n",
    "knn.fit(X_train, Y_train)\n",
    "\n",
    "# Predict on the test set\n",
    "Y_pred = knn.predict(X_test)\n",
    "\n",
    "# Evaluate the model\n",
    "print(classification_report(Y_test, Y_pred))"
   ]
  },
  {
   "cell_type": "code",
   "execution_count": 158,
   "id": "3aa2dae2-680c-4d9c-b16a-7040f5c47bc3",
   "metadata": {},
   "outputs": [],
   "source": [
    "logreg_cv = GridSearchCV(lr, parameters, cv=5)  # Change cv from 10 to 5"
   ]
  },
  {
   "cell_type": "code",
   "execution_count": 159,
   "id": "6a0e32ab-d87f-429b-abcb-85be7f9e8f56",
   "metadata": {},
   "outputs": [],
   "source": [
    "from sklearn.model_selection import StratifiedKFold\n",
    "\n",
    "stratified_cv = StratifiedKFold(n_splits=5)  # Use a smaller number of splits\n",
    "logreg_cv = GridSearchCV(lr, parameters, cv=stratified_cv)"
   ]
  },
  {
   "cell_type": "code",
   "execution_count": 160,
   "id": "9441fb15-0722-4ce8-849a-05833e1e3cf8",
   "metadata": {},
   "outputs": [
    {
     "name": "stdout",
     "output_type": "stream",
     "text": [
      "Class distribution in Y:\n",
      "success\n",
      "1    181\n",
      "0      5\n",
      "Name: count, dtype: int64\n"
     ]
    }
   ],
   "source": [
    "print(\"Class distribution in Y:\")\n",
    "print(Y.value_counts())"
   ]
  },
  {
   "cell_type": "markdown",
   "id": "f9b944c9-3c62-4ebc-a9ad-ba6c23e43a7d",
   "metadata": {},
   "source": []
  }
 ],
 "metadata": {
  "kernelspec": {
   "display_name": "Python 3 (ipykernel)",
   "language": "python",
   "name": "python3"
  },
  "language_info": {
   "codemirror_mode": {
    "name": "ipython",
    "version": 3
   },
   "file_extension": ".py",
   "mimetype": "text/x-python",
   "name": "python",
   "nbconvert_exporter": "python",
   "pygments_lexer": "ipython3",
   "version": "3.12.4"
  }
 },
 "nbformat": 4,
 "nbformat_minor": 5
}
